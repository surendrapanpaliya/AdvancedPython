{
 "cells": [
  {
   "cell_type": "markdown",
   "id": "57170820",
   "metadata": {},
   "source": [
    "What is Linting in Python?\n",
    "Linting is the process of analyzing your code to identify programming errors, style violations, bugs, and bad practices—before you run it.\n",
    "Think of it like a spell-checker, but for your Python code!"
   ]
  },
  {
   "cell_type": "markdown",
   "id": "65e42c78",
   "metadata": {},
   "source": [
    "🧠 Why is Linting Important?\n",
    "•\t✅ Enforces PEP 8 (Python’s style guide)\n",
    "•\t🐛 Detects syntax errors and bugs early\n",
    "•\t👨‍💻 Improves readability and maintainability\n",
    "•\t🧪 Helps during code reviews and collaboration"
   ]
  },
  {
   "cell_type": "code",
   "execution_count": null,
   "id": "62204d55",
   "metadata": {},
   "outputs": [],
   "source": [
    "pip install flake8"
   ]
  },
  {
   "cell_type": "code",
   "execution_count": 16,
   "id": "a2838413",
   "metadata": {},
   "outputs": [
    {
     "name": "stdout",
     "output_type": "stream",
     "text": [
      "Overwriting lint_example.py\n"
     ]
    }
   ],
   "source": [
    "%%writefile lint_example.py\n",
    "\n",
    "#Example Python Code (Before Linting)\n",
    "\n",
    "def greet(name):print(\"Hello,\"+name)\n",
    "greet( \"Dev\" )"
   ]
  },
  {
   "cell_type": "code",
   "execution_count": 17,
   "id": "a536953e",
   "metadata": {},
   "outputs": [
    {
     "name": "stdout",
     "output_type": "stream",
     "text": [
      "\u001b[1mlint_example.py\u001b[m\u001b[36m:\u001b[m2\u001b[36m:\u001b[m1\u001b[36m:\u001b[m \u001b[1m\u001b[31mE265\u001b[m block comment should start with '# '\n",
      "\u001b[1mlint_example.py\u001b[m\u001b[36m:\u001b[m4\u001b[36m:\u001b[m16\u001b[36m:\u001b[m \u001b[1m\u001b[31mE231\u001b[m missing whitespace after ':'\n",
      "\u001b[1mlint_example.py\u001b[m\u001b[36m:\u001b[m5\u001b[36m:\u001b[m1\u001b[36m:\u001b[m \u001b[1m\u001b[31mE305\u001b[m expected 2 blank lines after class or function definition, found 0\n",
      "\u001b[1mlint_example.py\u001b[m\u001b[36m:\u001b[m5\u001b[36m:\u001b[m7\u001b[36m:\u001b[m \u001b[1m\u001b[31mE201\u001b[m whitespace after '('\n",
      "\u001b[1mlint_example.py\u001b[m\u001b[36m:\u001b[m5\u001b[36m:\u001b[m13\u001b[36m:\u001b[m \u001b[1m\u001b[31mE202\u001b[m whitespace before ')'\n"
     ]
    }
   ],
   "source": [
    "!flake8 lint_example.py"
   ]
  },
  {
   "cell_type": "code",
   "execution_count": 8,
   "id": "2d7db62d",
   "metadata": {},
   "outputs": [
    {
     "name": "stdout",
     "output_type": "stream",
     "text": [
      "Overwriting after_lint_example.py\n"
     ]
    }
   ],
   "source": [
    "%%writefile after_lint_example.py\n",
    "# Corrected Code (After Linting)\n",
    "def greet(name):\n",
    "    print(\"Hello, \" + name)\n",
    "\n",
    "\n",
    "greet(\"Dev\")"
   ]
  },
  {
   "cell_type": "code",
   "execution_count": 10,
   "id": "4420c218",
   "metadata": {},
   "outputs": [
    {
     "name": "stdout",
     "output_type": "stream",
     "text": [
      "Hello, Dev\n"
     ]
    }
   ],
   "source": [
    "!python3 after_lint_example.py"
   ]
  },
  {
   "cell_type": "code",
   "execution_count": 9,
   "id": "1ae45f08",
   "metadata": {},
   "outputs": [],
   "source": [
    "!flake8 after_lint_example.py"
   ]
  },
  {
   "cell_type": "markdown",
   "id": "14db1b90",
   "metadata": {},
   "source": [
    "Bonus: Auto-Formatting with black\n",
    "\n",
    "pip install black\n",
    "\n",
    "black greet.py\n",
    "\n",
    "#This will auto-format your code to PEP "
   ]
  },
  {
   "cell_type": "code",
   "execution_count": 13,
   "id": "1a1fd9aa",
   "metadata": {},
   "outputs": [
    {
     "name": "stdout",
     "output_type": "stream",
     "text": [
      "\u001b[1mreformatted lint_example.py\u001b[0m\n",
      "\n",
      "\u001b[1mAll done! ✨ 🍰 ✨\u001b[0m\n",
      "\u001b[34m\u001b[1m1 file \u001b[0m\u001b[1mreformatted\u001b[0m.\n"
     ]
    }
   ],
   "source": [
    "!black lint_example.py"
   ]
  },
  {
   "cell_type": "code",
   "execution_count": 14,
   "id": "730c7dde",
   "metadata": {},
   "outputs": [
    {
     "name": "stdout",
     "output_type": "stream",
     "text": [
      "# Example Python Code (Before Linting)\n",
      "\n",
      "\n",
      "def greet(name):\n",
      "    print(\"Hello,\" + name)\n",
      "\n",
      "\n",
      "greet(\"Dev\")\n"
     ]
    }
   ],
   "source": [
    "cat lint_example.py"
   ]
  },
  {
   "cell_type": "markdown",
   "id": "db48e0c7",
   "metadata": {},
   "source": [
    "Linting + Formatting in IDEs\n",
    "\n",
    "•\tVS Code: Install Python extension + enable pylint, flake8, or black\n",
    "•\tPyCharm: Has built-in linting and inspections\n",
    "•\tPre-commit Hooks: Run linters before each git commit"
   ]
  },
  {
   "cell_type": "markdown",
   "id": "2e28e072",
   "metadata": {},
   "source": [
    "Why Code Quality Tools?\n",
    "These tools help:\n",
    "•\tCatch bugs early ✅\n",
    "•\tEnsure consistent formatting 🧹\n",
    "•\tEnforce good coding practices 🔍\n",
    "•\tImprove maintainability 🔧"
   ]
  },
  {
   "cell_type": "markdown",
   "id": "773d7cae",
   "metadata": {},
   "source": [
    "🛠️ 1. mypy – Static Type Checker\n",
    "Checks if your type hints are correct"
   ]
  },
  {
   "cell_type": "code",
   "execution_count": 19,
   "id": "5a3b6698",
   "metadata": {},
   "outputs": [
    {
     "name": "stdout",
     "output_type": "stream",
     "text": [
      "Writing mypy_example.py\n"
     ]
    }
   ],
   "source": [
    "%%writefile mypy_example.py\n",
    "# Example Python Code for Type Checking with mypy\n",
    "\n",
    "def greet(name: str) -> str:\n",
    "    return name + 1   # ❌ TypeError: str + int"
   ]
  },
  {
   "cell_type": "code",
   "execution_count": null,
   "id": "9f0cccec",
   "metadata": {},
   "outputs": [],
   "source": [
    "!pip install mypy"
   ]
  },
  {
   "cell_type": "code",
   "execution_count": 20,
   "id": "f07a7463",
   "metadata": {},
   "outputs": [
    {
     "name": "stdout",
     "output_type": "stream",
     "text": [
      "mypy_example.py:4: \u001b[1m\u001b[31merror:\u001b[m Unsupported operand types for + (\u001b[m\u001b[1m\"str\"\u001b[m and \u001b[m\u001b[1m\"int\"\u001b[m)  \u001b[m\u001b[33m[operator]\u001b[m\n",
      "\u001b[1m\u001b[31mFound 1 error in 1 file (checked 1 source file)\u001b[m\n"
     ]
    }
   ],
   "source": [
    "!mypy mypy_example.py"
   ]
  },
  {
   "cell_type": "markdown",
   "id": "3d2fbb3f",
   "metadata": {},
   "source": [
    "Benefit\n",
    "Detects bugs before runtime using type hints."
   ]
  },
  {
   "cell_type": "markdown",
   "id": "c89a53f9",
   "metadata": {},
   "source": [
    "2. black – Code Formatter\n",
    "Opinionated code formatter that auto-formats Python code"
   ]
  },
  {
   "cell_type": "code",
   "execution_count": 32,
   "id": "fd53f534",
   "metadata": {},
   "outputs": [
    {
     "data": {
      "text/plain": [
       "'hello1'"
      ]
     },
     "execution_count": 32,
     "metadata": {},
     "output_type": "execute_result"
    }
   ],
   "source": [
    "\"hello\" + '1'"
   ]
  },
  {
   "cell_type": "code",
   "execution_count": 21,
   "id": "7f2767c5",
   "metadata": {},
   "outputs": [
    {
     "name": "stdout",
     "output_type": "stream",
     "text": [
      "Writing add_before.py\n"
     ]
    }
   ],
   "source": [
    "%%writefile add_before.py\n",
    "def add(x,y):return x+y"
   ]
  },
  {
   "cell_type": "code",
   "execution_count": null,
   "id": "808ca272",
   "metadata": {},
   "outputs": [
    {
     "name": "stdout",
     "output_type": "stream",
     "text": [
      "\u001b[1mreformatted add_before.py\u001b[0m\n",
      "\n",
      "\u001b[1mAll done! ✨ 🍰 ✨\u001b[0m\n",
      "\u001b[34m\u001b[1m1 file \u001b[0m\u001b[1mreformatted\u001b[0m.\n"
     ]
    }
   ],
   "source": [
    "#After running black\n",
    "!black add_before.py"
   ]
  },
  {
   "cell_type": "code",
   "execution_count": null,
   "id": "add118dd",
   "metadata": {},
   "outputs": [
    {
     "name": "stdout",
     "output_type": "stream",
     "text": [
      "def add(x, y):\n",
      "    return x + y\n"
     ]
    }
   ],
   "source": [
    "#After running black\n",
    "cat add_before.py"
   ]
  },
  {
   "cell_type": "markdown",
   "id": "3eee20b2",
   "metadata": {},
   "source": [
    "ruff – Fast All-in-One Linter\n",
    "Blazing fast tool that combines the power of flake8, isort, pycodestyle, pylint, etc.\n",
    "\n",
    "Install & Run\n",
    "pip install ruff\n",
    "\n",
    "ruff check script.py"
   ]
  },
  {
   "cell_type": "markdown",
   "id": "6b265b56",
   "metadata": {},
   "source": [
    "Fix issues automatically\n",
    "\n",
    "ruff check --fix script.py"
   ]
  },
  {
   "cell_type": "markdown",
   "id": "51c13241",
   "metadata": {},
   "source": [
    "Supports:\n",
    "•\tUnused imports\n",
    "•\tComplexity checks\n",
    "•\tImport sorting\n",
    "•\tType annotations\n",
    "•\tAnd more"
   ]
  },
  {
   "cell_type": "markdown",
   "id": "80294fbb",
   "metadata": {},
   "source": [
    ". pre-commit\n",
    " – Git Hook Runner\n",
    "Runs checks before code is committed"
   ]
  },
  {
   "cell_type": "code",
   "execution_count": 30,
   "id": "85226f08",
   "metadata": {},
   "outputs": [
    {
     "name": "stdout",
     "output_type": "stream",
     "text": [
      "Writing .pre-commit-config.yaml\n"
     ]
    }
   ],
   "source": [
    "%%writefile .pre-commit-config.yaml\n",
    "\n",
    "repos:\n",
    "  - repo: https://github.com/psf/black\n",
    "    rev: 24.3.0\n",
    "    hooks:\n",
    "      - id: black\n",
    "\n",
    "  - repo: https://github.com/charliermarsh/ruff-pre-commit\n",
    "    rev: v0.3.0\n",
    "    hooks:\n",
    "      - id: ruff\n",
    "\n",
    "  - repo: https://github.com/pre-commit/mirrors-mypy\n",
    "    rev: v1.10.0\n",
    "    hooks:\n",
    "      - id: mypy"
   ]
  },
  {
   "cell_type": "markdown",
   "id": "410daeda",
   "metadata": {},
   "source": [
    "2. Install Hooks:\n",
    "pre-commit install\n",
    "\n",
    "3. Now Try:\n",
    "\n",
    "git add .\n",
    "git commit -m \"Clean code\"\n",
    "# Hooks will auto run black, mypy, ruff etc.\n",
    "\n",
    "Then every time you git commit, all hooks run automatically!"
   ]
  },
  {
   "cell_type": "markdown",
   "id": "955b75e6",
   "metadata": {},
   "source": [
    "📁 Best Practice Project Setup\n",
    "myproject/\n",
    "├── .pre-commit-config.yaml\n",
    "├── requirements.txt\n",
    "├── app/\n",
    "│   └── main.py\n",
    "\n",
    "requirements.txt\n",
    "black\n",
    "flake8\n",
    "mypy\n",
    "ruff\n",
    "pre-commit"
   ]
  },
  {
   "cell_type": "markdown",
   "id": "a6d7b5b8",
   "metadata": {},
   "source": [
    "Final Tips\n",
    "•\tUse ruff + black for speed & auto-formatting\n",
    "•\tUse mypy if you’re adding type hints\n",
    "•\tUse pre-commit to enforce code standards for teams"
   ]
  },
  {
   "cell_type": "markdown",
   "id": "d0038269",
   "metadata": {},
   "source": [
    "What is pytest?\n",
    "\n",
    "pytest is a powerful, easy-to-use, and popular testing framework in Python.\n",
    "\n",
    "It is used to write unit tests, integration tests, and even functional tests with less code and more readability."
   ]
  },
  {
   "cell_type": "markdown",
   "id": "e1e54942",
   "metadata": {},
   "source": [
    "Why Use pytest?\n",
    "\n",
    "Feature\t        -> Benefit\n",
    "No boilerplate ->\tNo need for class-based tests or main() runner\n",
    "Simple syntax\t-> Use plain assert statements\n",
    "Rich plugins\t-> Has plugins for coverage, mocking, CI, etc.\n",
    "Auto-discovery -> \tAutomatically finds test files/functions\n",
    "Easy mocking support -> Works well with unittest.mock or pytest-mock"
   ]
  },
  {
   "cell_type": "code",
   "execution_count": null,
   "id": "dbef2d9e",
   "metadata": {},
   "outputs": [],
   "source": [
    "!pip install pytest"
   ]
  },
  {
   "cell_type": "code",
   "execution_count": 44,
   "id": "6ca004ec",
   "metadata": {},
   "outputs": [
    {
     "name": "stdout",
     "output_type": "stream",
     "text": [
      "Overwriting calculator.py\n"
     ]
    }
   ],
   "source": [
    "%%writefile calculator.py\n",
    "\n",
    "#Basic pytest Test Example\n",
    "\n",
    "# file: calculator.py\n",
    "def add(a, b):\n",
    "    return a + b\n",
    "\n",
    "def sub(a, b):\n",
    "    return a - b\n",
    "\n",
    "def divide(a, b):\n",
    "    return a / b\n"
   ]
  },
  {
   "cell_type": "code",
   "execution_count": 45,
   "id": "5c3fe320",
   "metadata": {},
   "outputs": [
    {
     "name": "stdout",
     "output_type": "stream",
     "text": [
      "Overwriting test_calculator.py\n"
     ]
    }
   ],
   "source": [
    "%%writefile test_calculator.py\n",
    "\n",
    "# Basic pytest Test Example\n",
    "# file: test_calculator.py\n",
    "\n",
    "from calculator import add, divide, sub\n",
    "\n",
    "def test_add():\n",
    "    assert add(3, 5) == 8\n",
    "\n",
    "def test_divide():\n",
    "    assert divide(10, 2) == 5\n",
    "\n",
    "def test_sub():\n",
    "    assert sub(15,5) == 10\n"
   ]
  },
  {
   "cell_type": "code",
   "execution_count": 46,
   "id": "efb46c13",
   "metadata": {},
   "outputs": [
    {
     "name": "stdout",
     "output_type": "stream",
     "text": [
      "\u001b[1m============================= test session starts ==============================\u001b[0m\n",
      "platform darwin -- Python 3.11.7, pytest-7.4.0, pluggy-1.0.0\n",
      "rootdir: /Users/surendra/advance_python\n",
      "plugins: flask-1.3.0, logfire-3.20.0, anyio-4.2.0\n",
      "collected 3 items                                                              \u001b[0m\n",
      "\n",
      "test_calculator.py \u001b[32m.\u001b[0m\u001b[32m.\u001b[0m\u001b[32m.\u001b[0m\u001b[32m                                                   [100%]\u001b[0m\n",
      "\n",
      "\u001b[32m============================== \u001b[32m\u001b[1m3 passed\u001b[0m\u001b[32m in 0.01s\u001b[0m\u001b[32m ===============================\u001b[0m\n"
     ]
    }
   ],
   "source": [
    "!pytest test*.py"
   ]
  },
  {
   "cell_type": "code",
   "execution_count": 47,
   "id": "6c13c31d",
   "metadata": {},
   "outputs": [
    {
     "name": "stdout",
     "output_type": "stream",
     "text": [
      "Writing bankapplication.py\n"
     ]
    }
   ],
   "source": [
    "%%writefile bankapplication.py\n",
    "# Bank Application with Account Class\n",
    "\n",
    "\"\"\"A simple bank application with an Account class that allows for deposits, withdrawals, and balance inquiries.\"\"\"\n",
    "\n",
    "class Account:\n",
    "    def __init__(self, account_number, balance=0):\n",
    "        self.account_number = account_number\n",
    "        self.balance = balance\n",
    "\n",
    "    def deposit(self, amount):\n",
    "        if amount > 0:\n",
    "            self.balance += amount\n",
    "            return True\n",
    "        return False\n",
    "\n",
    "    def withdraw(self, amount):\n",
    "        if 0 < amount <= self.balance:\n",
    "            self.balance -= amount\n",
    "            return True\n",
    "        return False\n",
    "\n",
    "    def get_balance(self):\n",
    "        return self.balance\n",
    "\n",
    "    def get_account_number(self):\n",
    "        return self.account_number"
   ]
  },
  {
   "cell_type": "code",
   "execution_count": null,
   "id": "e2b01a7f",
   "metadata": {},
   "outputs": [
    {
     "name": "stdout",
     "output_type": "stream",
     "text": [
      "Writing test_bankapplication.py\n"
     ]
    }
   ],
   "source": [
    "%%writefile test_bankapplication.py\n",
    "\n",
    "# Test Cases for Bank Application\n",
    "import pytest\n",
    "\n",
    "from bankapplication import Account\n",
    "\n",
    "def test_account_creation():\n",
    "    account = Account(\"123456\")\n",
    "    assert account.get_account_number() == \"123456\""
   ]
  },
  {
   "cell_type": "code",
   "execution_count": 51,
   "id": "47f87536",
   "metadata": {},
   "outputs": [
    {
     "name": "stdout",
     "output_type": "stream",
     "text": [
      "\u001b[1m============================= test session starts ==============================\u001b[0m\n",
      "platform darwin -- Python 3.11.7, pytest-7.4.0, pluggy-1.0.0 -- /opt/anaconda3/bin/python\n",
      "cachedir: .pytest_cache\n",
      "rootdir: /Users/surendra/advance_python\n",
      "plugins: flask-1.3.0, logfire-3.20.0, anyio-4.2.0\n",
      "collected 4 items                                                              \u001b[0m\n",
      "\n",
      "test_bankapplication.py::test_account_creation \u001b[32mPASSED\u001b[0m\u001b[32m                    [ 25%]\u001b[0m\n",
      "test_calculator.py::test_add \u001b[32mPASSED\u001b[0m\u001b[32m                                      [ 50%]\u001b[0m\n",
      "test_calculator.py::test_divide \u001b[32mPASSED\u001b[0m\u001b[32m                                   [ 75%]\u001b[0m\n",
      "test_calculator.py::test_sub \u001b[32mPASSED\u001b[0m\u001b[32m                                      [100%]\u001b[0m\n",
      "\n",
      "\u001b[32m============================== \u001b[32m\u001b[1m4 passed\u001b[0m\u001b[32m in 0.01s\u001b[0m\u001b[32m ===============================\u001b[0m\n"
     ]
    }
   ],
   "source": [
    "!pytest test_*.py --verbose"
   ]
  },
  {
   "cell_type": "code",
   "execution_count": 52,
   "id": "13ac8e62",
   "metadata": {},
   "outputs": [],
   "source": [
    "#Assertions in pytest\n",
    "#You simply use assert, and pytest handles the rest (no need for self.assertEqual)\n",
    "\n",
    "def test_assertions():\n",
    "    assert 2 + 2 == 4\n",
    "    assert \"hello\".upper() == \"HELLO\"\n",
    "    assert isinstance(5.5, float)"
   ]
  },
  {
   "cell_type": "markdown",
   "id": "ef3b5390",
   "metadata": {},
   "source": [
    "Mocking in pytest\n",
    "\n",
    "Mocking replaces real objects or APIs with fake ones for testing.\n",
    "\n",
    "Use unittest.mock or  pytest-mock\n",
    "\n",
    "pip install pytest-mock"
   ]
  },
  {
   "cell_type": "code",
   "execution_count": 57,
   "id": "406abe50",
   "metadata": {},
   "outputs": [
    {
     "name": "stdout",
     "output_type": "stream",
     "text": [
      "Collecting pytest-mock\n",
      "  Downloading pytest_mock-3.14.1-py3-none-any.whl.metadata (3.9 kB)\n",
      "Requirement already satisfied: pytest>=6.2.5 in /opt/anaconda3/lib/python3.11/site-packages (from pytest-mock) (7.4.0)\n",
      "Requirement already satisfied: iniconfig in /opt/anaconda3/lib/python3.11/site-packages (from pytest>=6.2.5->pytest-mock) (1.1.1)\n",
      "Requirement already satisfied: packaging in /opt/anaconda3/lib/python3.11/site-packages (from pytest>=6.2.5->pytest-mock) (23.1)\n",
      "Requirement already satisfied: pluggy<2.0,>=0.12 in /opt/anaconda3/lib/python3.11/site-packages (from pytest>=6.2.5->pytest-mock) (1.0.0)\n",
      "Downloading pytest_mock-3.14.1-py3-none-any.whl (9.9 kB)\n",
      "Installing collected packages: pytest-mock\n",
      "Successfully installed pytest-mock-3.14.1\n"
     ]
    }
   ],
   "source": [
    "!pip install pytest-mock"
   ]
  },
  {
   "cell_type": "code",
   "execution_count": 61,
   "id": "ee47a547",
   "metadata": {},
   "outputs": [
    {
     "name": "stdout",
     "output_type": "stream",
     "text": [
      "Overwriting service.py\n"
     ]
    }
   ],
   "source": [
    "%%writefile service.py\n",
    "# Basic Service Example with Mocking\n",
    "\"\"\"A simple service that fetches weather data for a given city.\"\"\"\n",
    "# file: service.py\n",
    "import requests\n",
    "\n",
    "def get_weather(city):\n",
    "    response = requests.get(f\"http://api.weather.com/{city}\")\n",
    "    return response.json()['temperature']\n",
    "\n",
    "\n",
    "print(get_weather(\"Pune\") ) # Example usage, will fail without actual API"
   ]
  },
  {
   "cell_type": "code",
   "execution_count": null,
   "id": "5910060c",
   "metadata": {},
   "outputs": [],
   "source": [
    "!python3 service.py"
   ]
  },
  {
   "cell_type": "code",
   "execution_count": 63,
   "id": "dae86a28",
   "metadata": {},
   "outputs": [
    {
     "name": "stdout",
     "output_type": "stream",
     "text": [
      "Overwriting test_service.py\n"
     ]
    }
   ],
   "source": [
    "%%writefile test_service.py\n",
    "# Basic Service Example with Mocking\n",
    "# file: test_service.py\n",
    "from service import get_weather\n",
    "\n",
    "def test_get_weather(mocker):\n",
    "    mock_response = mocker.Mock()\n",
    "    mock_response.json.return_value = {'temperature': 25}\n",
    "    mocker.patch('service.requests.get', return_value=mock_response)\n",
    "\n",
    "    assert get_weather(\"Pune\") == 25"
   ]
  },
  {
   "cell_type": "code",
   "execution_count": 58,
   "id": "eb3c1c02",
   "metadata": {},
   "outputs": [
    {
     "name": "stdout",
     "output_type": "stream",
     "text": [
      "\u001b[1m============================= test session starts ==============================\u001b[0m\n",
      "platform darwin -- Python 3.11.7, pytest-7.4.0, pluggy-1.0.0 -- /opt/anaconda3/bin/python\n",
      "cachedir: .pytest_cache\n",
      "rootdir: /Users/surendra/advance_python\n",
      "plugins: flask-1.3.0, logfire-3.20.0, mock-3.14.1, anyio-4.2.0\n",
      "collected 1 item                                                               \u001b[0m\n",
      "\n",
      "test_service.py::test_get_weather \u001b[32mPASSED\u001b[0m\u001b[32m                                 [100%]\u001b[0m\n",
      "\n",
      "\u001b[32m============================== \u001b[32m\u001b[1m1 passed\u001b[0m\u001b[32m in 0.01s\u001b[0m\u001b[32m ===============================\u001b[0m\n"
     ]
    }
   ],
   "source": [
    "!pytest test_service.py --verbose"
   ]
  },
  {
   "cell_type": "code",
   "execution_count": 66,
   "id": "c4137c87",
   "metadata": {},
   "outputs": [
    {
     "name": "stdout",
     "output_type": "stream",
     "text": [
      "Overwriting test_service.py\n"
     ]
    }
   ],
   "source": [
    "%%writefile test_service.py\n",
    "# Basic Service Example with Mocking\n",
    "#Parametrize Tests\n",
    "#Test the same function with multiple inputs/outputs.\n",
    "\n",
    "import pytest\n",
    "from calculator import add, divide\n",
    "\n",
    "@pytest.mark.parametrize(\"a,b,result\", [(1,2,3), (3,4,7), (5,5,10), (10,20,30)])\n",
    "def test_add_param(a, b, result):\n",
    "    assert add(a, b) == result\n",
    "\n",
    "@pytest.mark.parametrize(\"a,b,result\", [(10,2,5), (20,4,5), (30,6,5), (100,20,5)])\n",
    "def test_div_param(a, b, result):\n",
    "    assert divide(a, b) == result\n"
   ]
  },
  {
   "cell_type": "code",
   "execution_count": 67,
   "id": "3a8e70f6",
   "metadata": {},
   "outputs": [
    {
     "name": "stdout",
     "output_type": "stream",
     "text": [
      "\u001b[1m============================= test session starts ==============================\u001b[0m\n",
      "platform darwin -- Python 3.11.7, pytest-7.4.0, pluggy-1.0.0 -- /opt/anaconda3/bin/python\n",
      "cachedir: .pytest_cache\n",
      "rootdir: /Users/surendra/advance_python\n",
      "plugins: flask-1.3.0, logfire-3.20.0, mock-3.14.1, anyio-4.2.0\n",
      "collected 8 items                                                              \u001b[0m\n",
      "\n",
      "test_service.py::test_add_param[1-2-3] \u001b[32mPASSED\u001b[0m\u001b[32m                            [ 12%]\u001b[0m\n",
      "test_service.py::test_add_param[3-4-7] \u001b[32mPASSED\u001b[0m\u001b[32m                            [ 25%]\u001b[0m\n",
      "test_service.py::test_add_param[5-5-10] \u001b[32mPASSED\u001b[0m\u001b[32m                           [ 37%]\u001b[0m\n",
      "test_service.py::test_add_param[10-20-30] \u001b[32mPASSED\u001b[0m\u001b[32m                         [ 50%]\u001b[0m\n",
      "test_service.py::test_div_param[10-2-5] \u001b[32mPASSED\u001b[0m\u001b[32m                           [ 62%]\u001b[0m\n",
      "test_service.py::test_div_param[20-4-5] \u001b[32mPASSED\u001b[0m\u001b[32m                           [ 75%]\u001b[0m\n",
      "test_service.py::test_div_param[30-6-5] \u001b[32mPASSED\u001b[0m\u001b[32m                           [ 87%]\u001b[0m\n",
      "test_service.py::test_div_param[100-20-5] \u001b[32mPASSED\u001b[0m\u001b[32m                         [100%]\u001b[0m\n",
      "\n",
      "\u001b[32m============================== \u001b[32m\u001b[1m8 passed\u001b[0m\u001b[32m in 0.01s\u001b[0m\u001b[32m ===============================\u001b[0m\n"
     ]
    }
   ],
   "source": [
    "!pytest test_service.py --verbose"
   ]
  }
 ],
 "metadata": {
  "kernelspec": {
   "display_name": "base",
   "language": "python",
   "name": "python3"
  },
  "language_info": {
   "codemirror_mode": {
    "name": "ipython",
    "version": 3
   },
   "file_extension": ".py",
   "mimetype": "text/x-python",
   "name": "python",
   "nbconvert_exporter": "python",
   "pygments_lexer": "ipython3",
   "version": "3.11.7"
  }
 },
 "nbformat": 4,
 "nbformat_minor": 5
}
