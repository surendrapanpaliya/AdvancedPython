{
 "cells": [
  {
   "cell_type": "markdown",
   "id": "6d4f4bdb",
   "metadata": {},
   "source": [
    "What is Concurrency?\n",
    "\n",
    "Concurrency is when multiple tasks are in progress at the same time. Python provides:\n",
    "•\tThreading → Multiple threads in a single process (shared memory)\n",
    "•\tMultiprocessing → Multiple processes (separate memory, true parallelism)"
   ]
  },
  {
   "cell_type": "markdown",
   "id": "8305a8a9",
   "metadata": {},
   "source": [
    "\n",
    "What is Threading?\n",
    "Threading allows your program to run multiple operations concurrently within the same process.\n",
    "\n",
    "    Useful for I/O-bound tasks (e.g., file logging, API calls, database writes).\n",
    "\n",
    "    Not ideal for CPU-bound tasks (due to the Global Interpreter Lock – GIL in CPython)."
   ]
  },
  {
   "cell_type": "code",
   "execution_count": 1,
   "id": "5f035de2",
   "metadata": {},
   "outputs": [
    {
     "name": "stdout",
     "output_type": "stream",
     "text": [
      "Started downloading file1.txtStarted downloading file2.txt\n",
      "\n",
      "Finished downloading file2.txt\n",
      "Finished downloading file1.txt\n",
      "Both downloads completed!\n"
     ]
    }
   ],
   "source": [
    "import threading\n",
    "import time\n",
    "\n",
    "def download_file(file):\n",
    "    print(f\"Started downloading {file}\")\n",
    "    time.sleep(2)\n",
    "    print(f\"Finished downloading {file}\")\n",
    "\n",
    "# Creating threads\n",
    "t1 = threading.Thread(target=download_file, args=(\"file1.txt\",))\n",
    "t2 = threading.Thread(target=download_file, args=(\"file2.txt\",))\n",
    "\n",
    "# Start threads\n",
    "t1.start()\n",
    "t2.start()\n",
    "\n",
    "# Wait for completion\n",
    "t1.join()\n",
    "t2.join()\n",
    "\n",
    "\n",
    "print(\"Both downloads completed!\")"
   ]
  },
  {
   "cell_type": "markdown",
   "id": "6eecc48e",
   "metadata": {},
   "source": [
    "Threads share the same memory space and run concurrently (not in true parallel on CPU due to the GIL)."
   ]
  },
  {
   "cell_type": "markdown",
   "id": "4b91fbf3",
   "metadata": {},
   "source": [
    "Bank Application Use Case\n",
    "\n",
    "Imagine a banking system where:\n",
    "1.\tYou process transactions\n",
    "2.\tYou log each transaction\n",
    "3.\tYou audit sensitive activities\n",
    "\n",
    "We’ll simulate concurrent logging and auditing using threads."
   ]
  },
  {
   "cell_type": "code",
   "execution_count": 2,
   "id": "7fb9bb02",
   "metadata": {},
   "outputs": [],
   "source": [
    "import threading\n",
    "import time\n",
    "\n",
    "class BankAccount:\n",
    "    def __init__(self, name, balance=0):\n",
    "        self.name = name\n",
    "        self.balance = balance\n",
    "        self.lock = threading.Lock()  # For thread-safe access\n",
    "\n",
    "    def deposit(self, amount):\n",
    "        with self.lock:\n",
    "            self.balance += amount\n",
    "            print(f\"[{threading.current_thread().name}] Deposited ₹{amount}, New Balance: ₹{self.balance}\")\n",
    "\n",
    "    def withdraw(self, amount):\n",
    "        with self.lock:\n",
    "            if amount > self.balance:\n",
    "                print(f\"[{threading.current_thread().name}] Insufficient funds.\")\n",
    "            else:\n",
    "                self.balance -= amount\n",
    "                print(f\"[{threading.current_thread().name}] Withdrew ₹{amount}, New Balance: ₹{self.balance}\")\n"
   ]
  },
  {
   "cell_type": "code",
   "execution_count": 5,
   "id": "8a646c14",
   "metadata": {},
   "outputs": [],
   "source": [
    "#Logging Function (Runs in a separate thread)\n",
    "\n",
    "def log_transaction(action, amount):\n",
    "    time.sleep(0.5)  # Simulate delay\n",
    "    print(f\"[LOG] {action} of ₹{amount} logged.\")"
   ]
  },
  {
   "cell_type": "code",
   "execution_count": 6,
   "id": "0630f380",
   "metadata": {},
   "outputs": [],
   "source": [
    "#Auditing Function (Runs in a separate thread)\n",
    "\n",
    "def audit(action, amount):\n",
    "    time.sleep(1)  # Simulate delay\n",
    "    print(f\"[AUDIT] {action.upper()} of ₹{amount} audited successfully.\")"
   ]
  },
  {
   "cell_type": "code",
   "execution_count": 9,
   "id": "df3c6e23",
   "metadata": {},
   "outputs": [],
   "source": [
    "# Main Transaction Function (uses threads)\n",
    "\n",
    "def perform_transaction(account, action, amount):\n",
    "    if action == \"deposit\":\n",
    "        account.deposit(amount)\n",
    "    elif action == \"withdraw\":\n",
    "        account.withdraw(amount)\n",
    "\n",
    "    # Start log and audit in parallel threads\n",
    "\n",
    "    threading.Thread(target=log_transaction, args=(action, amount), name=\"Logger\").start()\n",
    "    threading.Thread(target=audit, args=(action, amount), name=\"Auditor\").start()\n"
   ]
  },
  {
   "cell_type": "code",
   "execution_count": 10,
   "id": "efbf3da2",
   "metadata": {},
   "outputs": [
    {
     "name": "stdout",
     "output_type": "stream",
     "text": [
      "[MainThread] Deposited ₹500, New Balance: ₹1500\n",
      "[MainThread] Withdrew ₹300, New Balance: ₹1200\n",
      "[LOG] deposit of ₹500 logged.\n",
      "[LOG] withdraw of ₹300 logged.\n",
      "[AUDIT] DEPOSIT of ₹500 audited successfully.\n",
      "[AUDIT] WITHDRAW of ₹300 audited successfully.\n"
     ]
    }
   ],
   "source": [
    "acc = BankAccount(\"Dev\", 1000)\n",
    "\n",
    "# Perform multiple transactions concurrently\n",
    "perform_transaction(acc, \"deposit\", 500)\n",
    "perform_transaction(acc, \"withdraw\", 300)\n",
    "\n",
    "# Main thread sleeps to allow background threads to finish\n",
    "time.sleep(2)"
   ]
  },
  {
   "cell_type": "markdown",
   "id": "a607da79",
   "metadata": {},
   "source": [
    "What is Multiprocessing?\n",
    "\n",
    "Multiprocessing is a technique that runs multiple processes simultaneously, each with its own Python interpreter and memory space.\n",
    "\n",
    "\n",
    "Use it when:\n",
    "• Tasks are CPU-bound \n",
    "(e.g., fraud detection, data encryption, report generation)\n",
    "\n",
    "• You want to utilize multiple cores for performance\n",
    "\n",
    "Unlike threading, it bypasses the Global Interpreter Lock (GIL) in CPython."
   ]
  },
  {
   "cell_type": "code",
   "execution_count": 13,
   "id": "fc923e89",
   "metadata": {},
   "outputs": [
    {
     "name": "stdout",
     "output_type": "stream",
     "text": [
      "Writing multiprocess_ex.py\n"
     ]
    }
   ],
   "source": [
    "%%writefile multiprocess_ex.py\n",
    "\n",
    "import multiprocessing\n",
    "import time\n",
    "\n",
    "def calculate_square(n):\n",
    "    print(f\"Calculating square of {n}\")\n",
    "    time.sleep(2)\n",
    "    print(f\"Square of {n} is {n*n}\")\n",
    "\n",
    "if __name__ == \"__main__\":\n",
    "    p1 = multiprocessing.Process(target=calculate_square, args=(5,))\n",
    "    p2 = multiprocessing.Process(target=calculate_square, args=(7,))\n",
    "\n",
    "    p1.start()\n",
    "    p2.start()\n",
    "\n",
    "    p1.join()\n",
    "    p2.join()\n",
    "\n",
    "    print(\"Both calculations completed!\")"
   ]
  },
  {
   "cell_type": "code",
   "execution_count": 14,
   "id": "46b96ace",
   "metadata": {},
   "outputs": [
    {
     "name": "stdout",
     "output_type": "stream",
     "text": [
      "Calculating square of 5\n",
      "Calculating square of 7\n",
      "Square of 7 is 49\n",
      "Square of 5 is 25\n",
      "Both calculations completed!\n"
     ]
    }
   ],
   "source": [
    "run multiprocess_ex.py"
   ]
  },
  {
   "cell_type": "markdown",
   "id": "2d686b84",
   "metadata": {},
   "source": [
    "True parallelism: runs on separate CPU cores"
   ]
  },
  {
   "cell_type": "markdown",
   "id": "9d0f0b81",
   "metadata": {},
   "source": [
    "Bank Application Use Case for Multiprocessing\n",
    "Imagine a bank needs to:\n",
    "1.\tProcess a batch of transactions (deposits/withdrawals)\n",
    "2.\tPerform fraud checks or report generation in parallel"
   ]
  },
  {
   "cell_type": "code",
   "execution_count": 15,
   "id": "da52c510",
   "metadata": {},
   "outputs": [],
   "source": [
    "from multiprocessing import Process, Queue, current_process\n",
    "import time\n",
    "\n",
    "class BankAccount:\n",
    "    def __init__(self, name, balance=0):\n",
    "        self.name = name\n",
    "        self.balance = balance\n",
    "\n",
    "    def apply_transaction(self, tx_type, amount):\n",
    "        if tx_type == 'deposit':\n",
    "            self.balance += amount\n",
    "            return f\"[{current_process().name}] Deposited ₹{amount}, Balance: ₹{self.balance}\"\n",
    "        elif tx_type == 'withdraw':\n",
    "            if amount > self.balance:\n",
    "                return f\"[{current_process().name}] Insufficient funds.\"\n",
    "            self.balance -= amount\n",
    "            return f\"[{current_process().name}] Withdrew ₹{amount}, Balance: ₹{self.balance}\""
   ]
  },
  {
   "cell_type": "code",
   "execution_count": 16,
   "id": "7140a51d",
   "metadata": {},
   "outputs": [],
   "source": [
    "#Define Worker Function\n",
    "\n",
    "def process_transaction(account, tx_type, amount, queue):\n",
    "    time.sleep(1)  # Simulate processing time\n",
    "    result = account.apply_transaction(tx_type, amount)\n",
    "    queue.put(result)  # Return result via queue"
   ]
  },
  {
   "cell_type": "code",
   "execution_count": null,
   "id": "6a69f385",
   "metadata": {},
   "outputs": [],
   "source": [
    "#Main Controller\n",
    "if __name__ == \"__main__\":\n",
    "    from multiprocessing import Queue\n",
    "\n",
    "    # Create account and a queue to collect results\n",
    "    acc = BankAccount(\"Dev\", 1000)\n",
    "    queue = Queue()\n",
    "\n",
    "    # Create multiple processes for different transactions\n",
    "    p1 = Process(target=process_transaction, args=(acc, 'deposit', 500, queue), name=\"DepositProcess\")\n",
    "    p2 = Process(target=process_transaction, args=(acc, 'withdraw', 300, queue), name=\"WithdrawProcess\")\n",
    "\n",
    "    p1.start()\n",
    "    p2.start()\n",
    "\n",
    "    p1.join()\n",
    "    p2.join()\n",
    "\n",
    "    # Collect results\n",
    "    while not queue.empty():\n",
    "        print(queue.get())"
   ]
  },
  {
   "cell_type": "code",
   "execution_count": 18,
   "id": "15c4dad4",
   "metadata": {},
   "outputs": [
    {
     "name": "stdout",
     "output_type": "stream",
     "text": [
      "Writing multiprocess_bank.py\n"
     ]
    }
   ],
   "source": [
    "%%writefile multiprocess_bank.py\n",
    "\n",
    "from multiprocessing import Process, Queue, current_process\n",
    "import time\n",
    "\n",
    "class BankAccount:\n",
    "    def __init__(self, name, balance=0):\n",
    "        self.name = name\n",
    "        self.balance = balance\n",
    "\n",
    "    def apply_transaction(self, tx_type, amount):\n",
    "        if tx_type == 'deposit':\n",
    "            self.balance += amount\n",
    "            return f\"[{current_process().name}] Deposited ₹{amount}, Balance: ₹{self.balance}\"\n",
    "        elif tx_type == 'withdraw':\n",
    "            if amount > self.balance:\n",
    "                return f\"[{current_process().name}] Insufficient funds.\"\n",
    "            self.balance -= amount\n",
    "            return f\"[{current_process().name}] Withdrew ₹{amount}, Balance: ₹{self.balance}\"\n",
    "\n",
    "\n",
    "#Define Worker Function\n",
    "\n",
    "def process_transaction(account, tx_type, amount, queue):\n",
    "    time.sleep(1)  # Simulate processing time\n",
    "    result = account.apply_transaction(tx_type, amount)\n",
    "    queue.put(result)  # Return result via queue\n",
    "\n",
    "\n",
    "#Main Controller\n",
    "if __name__ == \"__main__\":\n",
    "    from multiprocessing import Queue\n",
    "\n",
    "    # Create account and a queue to collect results\n",
    "    acc = BankAccount(\"Dev\", 1000)\n",
    "    queue = Queue()\n",
    "\n",
    "    # Create multiple processes for different transactions\n",
    "    p1 = Process(target=process_transaction, args=(acc, 'deposit', 500, queue), name=\"DepositProcess\")\n",
    "    p2 = Process(target=process_transaction, args=(acc, 'withdraw', 300, queue), name=\"WithdrawProcess\")\n",
    "\n",
    "    p1.start()\n",
    "    p2.start()\n",
    "\n",
    "    p1.join()\n",
    "    p2.join()\n",
    "\n",
    "    # Collect results\n",
    "    while not queue.empty():\n",
    "        print(queue.get())"
   ]
  },
  {
   "cell_type": "code",
   "execution_count": 19,
   "id": "b3d10c3f",
   "metadata": {},
   "outputs": [
    {
     "name": "stdout",
     "output_type": "stream",
     "text": [
      "[DepositProcess] Deposited ₹500, Balance: ₹1500\n",
      "[WithdrawProcess] Withdrew ₹300, Balance: ₹700\n"
     ]
    }
   ],
   "source": [
    "run multiprocess_bank.py"
   ]
  },
  {
   "cell_type": "markdown",
   "id": "c2d91718",
   "metadata": {},
   "source": [
    "Important Note:\n",
    "In multiprocessing, the BankAccount object is copied, not shared. \n",
    "So each process gets its own version of the object. \n",
    "To share state, you must use \n",
    "multiprocessing.Value, \n",
    "multiprocessing.Manager, or shared memory."
   ]
  },
  {
   "cell_type": "markdown",
   "id": "0a5e53d3",
   "metadata": {},
   "source": [
    "What is Async I/O?\n",
    "\n",
    "Async IO lets your program do more while waiting \n",
    "— ideal for I/O-bound operations like:\n",
    "•\tAPI calls\n",
    "•\tDatabase queries\n",
    "•\tFile operations\n",
    "•\tExternal services (SMS, emails, fraud detection)\n",
    "\n",
    "Best for:\n",
    "•\tMaking many API calls\n",
    "•\tReading files/networking without blocking\n",
    "•\tChatbots, crawlers, servers (e.g., FastAPI)\n",
    "\n",
    "Event Loop in asyncio\n",
    "\n",
    "•\tasyncio provides the event loop that runs async tasks\n",
    "•\tIt registers non-blocking I/O operations (like waiting for HTTP responses) and resumes them when ready"
   ]
  },
  {
   "cell_type": "code",
   "execution_count": null,
   "id": "c99af786",
   "metadata": {},
   "outputs": [
    {
     "name": "stdout",
     "output_type": "stream",
     "text": [
      "Overwriting asyncio_ex.py\n"
     ]
    }
   ],
   "source": [
    "%%writefile asyncio_ex.py\n",
    "\n",
    "import asyncio\n",
    "\n",
    "async def greet(name):\n",
    "    print(f\"Hello, {name}\")\n",
    "    await asyncio.sleep(1)  # Non-blocking wait\n",
    "    print(f\"Goodbye, {name}\")\n",
    "\n",
    "async def main():\n",
    "    await asyncio.gather(\n",
    "        greet(\"Surendra\"),\n",
    "        greet(\"Dev\")\n",
    "    )\n",
    "asyncio.run(main())\n",
    "\n",
    "# Run this program from Terminal\n",
    "# As asyncio.gather() runs both greet() calls concurrently!"
   ]
  },
  {
   "cell_type": "markdown",
   "id": "60cff06c",
   "metadata": {},
   "source": [
    "Real Example: aiohttp – Async HTTP Requests\n",
    "Install:\n",
    "pip install aiohttp\n",
    "\n",
    "Fetch Multiple URLs in Parallel"
   ]
  },
  {
   "cell_type": "code",
   "execution_count": 38,
   "id": "b8d1f3fc",
   "metadata": {},
   "outputs": [
    {
     "name": "stdout",
     "output_type": "stream",
     "text": [
      "Writing asyncio_ex2.py\n"
     ]
    }
   ],
   "source": [
    "%%writefile asyncio_ex2.py\n",
    "\n",
    "import asyncio\n",
    "import aiohttp\n",
    "\n",
    "urls = [\n",
    "    \"https://httpbin.org/delay/2\",\n",
    "    \"https://httpbin.org/delay/3\",\n",
    "    \"https://httpbin.org/delay/1\"\n",
    "]\n",
    "\n",
    "async def fetch(session, url):\n",
    "    async with session.get(url) as response:\n",
    "        print(f\"Fetched {url} with status {response.status}\")\n",
    "        return await response.text()\n",
    "\n",
    "async def main():\n",
    "    async with aiohttp.ClientSession() as session:\n",
    "        tasks = [fetch(session, url) for url in urls]\n",
    "        await asyncio.gather(*tasks)\n",
    "\n",
    "asyncio.run(main())"
   ]
  },
  {
   "cell_type": "markdown",
   "id": "dc87f840",
   "metadata": {},
   "source": [
    "% python asyncio_ex2.py # Run Program on Terminal\n",
    "Fetched https://httpbin.org/delay/1 with status 200\n",
    "Fetched https://httpbin.org/delay/2 with status 200\n",
    "Fetched https://httpbin.org/delay/3 with status 200\n",
    "All requests run concurrently, but with a single thread!\n"
   ]
  },
  {
   "cell_type": "markdown",
   "id": "c98bca9c",
   "metadata": {},
   "source": [
    "Async Bank Application Use Case\n",
    "\n",
    "Scenario:\n",
    "•\tA user performs a transaction\n",
    "•\tThe system must:\n",
    "\n",
    "1.\tUpdate account balance\n",
    "2.\tSend an SMS notification\n",
    "3.\tCall an external fraud-check API\n",
    "4.\tSend a confirmation email\n",
    "\n",
    "Let’s do these asynchronously using asyncio and aiohttp."
   ]
  },
  {
   "cell_type": "code",
   "execution_count": null,
   "id": "c753a6b9",
   "metadata": {},
   "outputs": [],
   "source": [
    "#Step 1: Bank Account Logic\n",
    "\n",
    "class BankAccount:\n",
    "    def __init__(self, name, balance=0):\n",
    "        self.name = name\n",
    "        self.balance = balance\n",
    "\n",
    "    def deposit(self, amount):\n",
    "        self.balance += amount\n",
    "        print(f\"Deposited ₹{amount}. New balance: ₹{self.balance}\")"
   ]
  },
  {
   "cell_type": "code",
   "execution_count": null,
   "id": "2246c52f",
   "metadata": {},
   "outputs": [],
   "source": [
    "#Step 2: Async Notification & Fraud Check\n",
    "\n",
    "import asyncio\n",
    "import aiohttp\n",
    "\n",
    "async def send_sms(name, amount):\n",
    "    await asyncio.sleep(1)  # simulate delay\n",
    "    print(f\"[SMS] Sent SMS to {name} for ₹{amount} deposit.\")\n",
    "\n",
    "async def send_email(name, amount):\n",
    "    await asyncio.sleep(2)  # simulate delay\n",
    "    print(f\"[Email] Sent email to {name} confirming ₹{amount} deposit.\")\n",
    "\n",
    "async def fraud_check(name, amount):\n",
    "    async with aiohttp.ClientSession() as session:\n",
    "        async with session.get('https://httpbin.org/get') as response:\n",
    "            data = await response.json()\n",
    "            print(f\"[FraudCheck] Verified transaction for ₹{amount} via {data['url']}\")\n"
   ]
  },
  {
   "cell_type": "code",
   "execution_count": null,
   "id": "1019a05c",
   "metadata": {},
   "outputs": [],
   "source": [
    "#Step 3: Combine with Event Loop\n",
    "\n",
    "async def perform_transaction(account: BankAccount, amount: float):\n",
    "    account.deposit(amount)\n",
    "\n",
    "    # Fire off all async tasks\n",
    "    await asyncio.gather(\n",
    "        send_sms(account.name, amount),\n",
    "        send_email(account.name, amount),\n",
    "        fraud_check(account.name, amount)\n",
    "    )"
   ]
  },
  {
   "cell_type": "code",
   "execution_count": null,
   "id": "30a2a53a",
   "metadata": {},
   "outputs": [],
   "source": [
    "#Step 4: Run the Event Loop\n",
    "if __name__ == \"__main__\":\n",
    "    acc = BankAccount(\"Dev\", 1000)\n",
    "    asyncio.run(perform_transaction(acc, 500))"
   ]
  },
  {
   "cell_type": "code",
   "execution_count": 39,
   "id": "8dc4baae",
   "metadata": {},
   "outputs": [
    {
     "name": "stdout",
     "output_type": "stream",
     "text": [
      "Writing asyncio_bankapp.py\n"
     ]
    }
   ],
   "source": [
    "%%writefile asyncio_bankapp.py\n",
    "\n",
    "#Step 1: Bank Account Logic\n",
    "\n",
    "class BankAccount:\n",
    "    def __init__(self, name, balance=0):\n",
    "        self.name = name\n",
    "        self.balance = balance\n",
    "\n",
    "    def deposit(self, amount):\n",
    "        self.balance += amount\n",
    "        print(f\"Deposited ₹{amount}. New balance: ₹{self.balance}\")\n",
    "\n",
    "#Step 2: Async Notification & Fraud Check\n",
    "\n",
    "import asyncio\n",
    "import aiohttp\n",
    "\n",
    "async def send_sms(name, amount):\n",
    "    await asyncio.sleep(1)  # simulate delay\n",
    "    print(f\"[SMS] Sent SMS to {name} for ₹{amount} deposit.\")\n",
    "\n",
    "async def send_email(name, amount):\n",
    "    await asyncio.sleep(2)  # simulate delay\n",
    "    print(f\"[Email] Sent email to {name} confirming ₹{amount} deposit.\")\n",
    "\n",
    "async def fraud_check(name, amount):\n",
    "    async with aiohttp.ClientSession() as session:\n",
    "        async with session.get('https://httpbin.org/get') as response:\n",
    "            data = await response.json()\n",
    "            print(f\"[FraudCheck] Verified transaction for ₹{amount} via {data['url']}\")\n",
    "\n",
    "\n",
    "\n",
    "#Step 3: Combine with Event Loop\n",
    "\n",
    "async def perform_transaction(account: BankAccount, amount: float):\n",
    "    account.deposit(amount)\n",
    "\n",
    "    # Fire off all async tasks\n",
    "    await asyncio.gather(\n",
    "        send_sms(account.name, amount),\n",
    "        send_email(account.name, amount),\n",
    "        fraud_check(account.name, amount)\n",
    "    )\n",
    "\n",
    "# Step 4: Run the Event Loop\n",
    "if __name__ == \"__main__\":\n",
    "    acc = BankAccount(\"Dev\", 1000)\n",
    "    asyncio.run(perform_transaction(acc, 500))"
   ]
  },
  {
   "cell_type": "markdown",
   "id": "3e52f208",
   "metadata": {},
   "source": [
    "\n",
    "Why Use Profiling?\n",
    "\n",
    "Before optimizing code, you must know:\n",
    "\n",
    "•\tWhich functions are slow?\n",
    "•\tWhich lines consume the most CPU?\n",
    "•\tWhich lines use too much memory?=\n",
    "\n",
    "Profiling tools help you measure, not guess.\n",
    "\n",
    "1. cProfile – Function-Level CPU Profiler"
   ]
  },
  {
   "cell_type": "code",
   "execution_count": 40,
   "id": "3f0d852a",
   "metadata": {},
   "outputs": [
    {
     "name": "stdout",
     "output_type": "stream",
     "text": [
      "Writing my_script.py\n"
     ]
    }
   ],
   "source": [
    "%%writefile my_script.py\n",
    "\n",
    "import time\n",
    "\n",
    "def slow_function():\n",
    "    time.sleep(1)\n",
    "    return sum(range(1000))\n",
    "\n",
    "def fast_function():\n",
    "    return sum(range(10))\n",
    "\n",
    "def main():\n",
    "    for _ in range(5):\n",
    "        slow_function()\n",
    "        fast_function()\n",
    "\n",
    "if __name__ == \"__main__\":\n",
    "    main()"
   ]
  },
  {
   "cell_type": "markdown",
   "id": "1bae4c7b",
   "metadata": {},
   "source": [
    "$python -m cProfile -s cumtime my_script.py\n",
    "\n",
    "Use it to: Analyze how much time each function takes in total and how many times it is called."
   ]
  },
  {
   "cell_type": "markdown",
   "id": "bf86fecc",
   "metadata": {},
   "source": [
    "2. line_profiler – Line-by-Line Execution Timing\n",
    "\n",
    "pip install line_profiler\n",
    "\n",
    "Decorate the function you want to profile"
   ]
  },
  {
   "cell_type": "code",
   "execution_count": 46,
   "id": "98a7c145",
   "metadata": {},
   "outputs": [
    {
     "name": "stdout",
     "output_type": "stream",
     "text": [
      "Writing line_test.py\n"
     ]
    }
   ],
   "source": [
    "%%writefile line_test.py\n",
    "\n",
    "import time\n",
    "\n",
    "@profile\n",
    "def sample():\n",
    "    total = 0\n",
    "    for i in range(1000):\n",
    "        total += i\n",
    "    time.sleep(1)\n",
    "    return total\n",
    "\n",
    "if __name__ == \"__main__\":\n",
    "    sample()\n",
    "\n",
    "\n",
    "#Run:\n",
    "# kernprof -l -v line_test.py"
   ]
  },
  {
   "cell_type": "markdown",
   "id": "ea6a225d",
   "metadata": {},
   "source": [
    "% kernprof -l -v line_test.py\n",
    "\n",
    "Wrote profile results to line_test.py.lprof\n",
    "Timer unit: 1e-06 s\n",
    "\n",
    "Total time: 1.00393 s\n",
    "File: line_test.py\n",
    "Function: sample at line 4\n",
    "\n",
    "Line #      Hits         Time  Per Hit   % Time  Line Contents\n",
    "==============================================================\n",
    "     4                                           @profile\n",
    "     5                                           def sample():\n",
    "     6         1          1.0      1.0      0.0      total = 0\n",
    "     7      1001        424.0      0.4      0.0      for i in range(1000):\n",
    "     8      1000        415.0      0.4      0.0          total += i\n",
    "     9         1    1003086.0    1e+06     99.9      time.sleep(1)"
   ]
  },
  {
   "cell_type": "markdown",
   "id": "89d1e450",
   "metadata": {},
   "source": [
    "memory_profiler – Line-by-Line Memory Usage\n",
    "\n",
    "pip install memory_profiler\n",
    "\n",
    "Decorate with @profile:"
   ]
  },
  {
   "cell_type": "code",
   "execution_count": 47,
   "id": "4474a39a",
   "metadata": {},
   "outputs": [
    {
     "name": "stdout",
     "output_type": "stream",
     "text": [
      "Writing memory_profiler_ex.py\n"
     ]
    }
   ],
   "source": [
    "%%writefile memory_profiler_ex.py\n",
    "\n",
    "from memory_profiler import profile\n",
    "\n",
    "@profile\n",
    "def memory_hog():\n",
    "    a = [0] * 1000000  # 1 million zeros\n",
    "    b = [1] * 1000000\n",
    "    del b\n",
    "    return a\n",
    "\n",
    "memory_hog()"
   ]
  },
  {
   "cell_type": "code",
   "execution_count": 48,
   "id": "fb7c5005",
   "metadata": {},
   "outputs": [
    {
     "name": "stdout",
     "output_type": "stream",
     "text": [
      "Collecting memory_profiler\n",
      "  Downloading memory_profiler-0.61.0-py3-none-any.whl.metadata (20 kB)\n",
      "Requirement already satisfied: psutil in /opt/anaconda3/lib/python3.11/site-packages (from memory_profiler) (5.9.0)\n",
      "Downloading memory_profiler-0.61.0-py3-none-any.whl (31 kB)\n",
      "Installing collected packages: memory_profiler\n",
      "Successfully installed memory_profiler-0.61.0\n",
      "\n",
      "\u001b[1m[\u001b[0m\u001b[34;49mnotice\u001b[0m\u001b[1;39;49m]\u001b[0m\u001b[39;49m A new release of pip is available: \u001b[0m\u001b[31;49m24.3.1\u001b[0m\u001b[39;49m -> \u001b[0m\u001b[32;49m25.1.1\u001b[0m\n",
      "\u001b[1m[\u001b[0m\u001b[34;49mnotice\u001b[0m\u001b[1;39;49m]\u001b[0m\u001b[39;49m To update, run: \u001b[0m\u001b[32;49mpip install --upgrade pip\u001b[0m\n",
      "Note: you may need to restart the kernel to use updated packages.\n"
     ]
    }
   ],
   "source": [
    "pip install memory_profiler"
   ]
  },
  {
   "cell_type": "markdown",
   "id": "9117ba8f",
   "metadata": {},
   "source": [
    "#Run\n",
    "python -m memory_profiler memory_profiler_ex.py\n",
    "\n",
    "python -m memory_profiler memory_profiler_ex.py\n",
    "Filename: memory_profiler_ex.py\n",
    "\n",
    "Line #    Mem usage    Increment  Occurrences   Line Contents\n",
    "=============================================================\n",
    "     4     51.2 MiB     51.2 MiB           1   @profile\n",
    "     5                                         def memory_hog():\n",
    "     6     58.9 MiB      7.6 MiB           1       a = [0] * 1000000  # 1 million zeros\n",
    "     7     66.5 MiB      7.6 MiB           1       b = [1] * 1000000\n",
    "     8     66.5 MiB      0.0 MiB           1       del b\n",
    "     9     66.5 MiB      0.0 MiB           1       return a"
   ]
  }
 ],
 "metadata": {
  "kernelspec": {
   "display_name": "base",
   "language": "python",
   "name": "python3"
  },
  "language_info": {
   "codemirror_mode": {
    "name": "ipython",
    "version": 3
   },
   "file_extension": ".py",
   "mimetype": "text/x-python",
   "name": "python",
   "nbconvert_exporter": "python",
   "pygments_lexer": "ipython3",
   "version": "3.11.7"
  }
 },
 "nbformat": 4,
 "nbformat_minor": 5
}
