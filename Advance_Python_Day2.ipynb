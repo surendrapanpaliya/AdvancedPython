{
 "cells": [
  {
   "cell_type": "markdown",
   "id": "44ca70f4",
   "metadata": {},
   "source": [
    "Function \n",
    "def \n",
    "*arg : variable \n",
    "**kwarg : Key Word Arguments "
   ]
  },
  {
   "cell_type": "code",
   "execution_count": null,
   "id": "f8676737",
   "metadata": {},
   "outputs": [
    {
     "name": "stdout",
     "output_type": "stream",
     "text": [
      "welcome to function\n",
      "welcome to function\n",
      "Priting Hello World \n",
      "helloword\n"
     ]
    }
   ],
   "source": [
    "def helloword():\n",
    "    '''Priting Hello World '''\n",
    "    print(\"welcome to function\")\n",
    "\n",
    "helloword()\n",
    "\n",
    "f = helloword  # alias\n",
    "\n",
    "#dir(f)\n",
    "f()\n",
    "print(f.__doc__)  # dundler ( Double underscore)\n",
    "print(f.__name__)\n"
   ]
  },
  {
   "cell_type": "code",
   "execution_count": 6,
   "id": "79c1ff97",
   "metadata": {},
   "outputs": [
    {
     "name": "stdout",
     "output_type": "stream",
     "text": [
      "Help on function helloword in module __main__:\n",
      "\n",
      "helloword()\n",
      "    Priting Hello World\n",
      "\n"
     ]
    }
   ],
   "source": [
    "help(f)"
   ]
  },
  {
   "cell_type": "code",
   "execution_count": null,
   "id": "b054ef74",
   "metadata": {},
   "outputs": [],
   "source": [
    "# Python is modular language\n",
    "# DRY Principle Don't Repeat Yourself"
   ]
  },
  {
   "cell_type": "code",
   "execution_count": 8,
   "id": "cfcd81ac",
   "metadata": {},
   "outputs": [
    {
     "name": "stdout",
     "output_type": "stream",
     "text": [
      "Writing calculator_mod.py\n"
     ]
    }
   ],
   "source": [
    "%%writefile calculator_mod.py\n",
    "\n",
    "'''Design Calcularor Module which include\n",
    "Addition, Substraction, Multiplication, Division, Modulus\n",
    "'''\n",
    "def add(arg1, arg2):\n",
    "    '''addition of arg1 and arg2'''\n",
    "    return arg1 + arg2\n",
    "\n",
    "def sub(arg1, arg2):\n",
    "    '''Substraction of arg1 and arg2'''\n",
    "    return arg1 - arg2\n",
    "\n",
    "def div(arg1, arg2):\n",
    "    '''Division of arg1 and arg2'''\n",
    "    return arg1 / arg2\n",
    "\n",
    "def mult(arg1, arg2):\n",
    "    '''Multiplication of arg1 and arg2'''\n",
    "    return arg1 * arg2\n",
    "\n",
    "def mod(arg1, arg2):\n",
    "    '''Modulus of arg1 and arg2'''\n",
    "    return arg1 % arg2"
   ]
  },
  {
   "cell_type": "code",
   "execution_count": 14,
   "id": "81ffd9de",
   "metadata": {},
   "outputs": [
    {
     "name": "stdout",
     "output_type": "stream",
     "text": [
      "134\n",
      "66\n",
      "Help on module calculator_mod:\n",
      "\n",
      "NAME\n",
      "    calculator_mod\n",
      "\n",
      "DESCRIPTION\n",
      "    Design Calcularor Module which include\n",
      "    Addition, Substraction, Multiplication, Division, Modulus\n",
      "\n",
      "FUNCTIONS\n",
      "    add(arg1, arg2)\n",
      "        addition of arg1 and arg2\n",
      "    \n",
      "    div(arg1, arg2)\n",
      "        Division of arg1 and arg2\n",
      "    \n",
      "    mod(arg1, arg2)\n",
      "        Modulus of arg1 and arg2\n",
      "    \n",
      "    mult(arg1, arg2)\n",
      "        Multiplication of arg1 and arg2\n",
      "    \n",
      "    sub(arg1, arg2)\n",
      "        Substraction of arg1 and arg2\n",
      "\n",
      "FILE\n",
      "    /Users/surendra/advance_python/calculator_mod.py\n",
      "\n",
      "\n"
     ]
    }
   ],
   "source": [
    "import calculator_mod\n",
    "import calculator_mod as cal # alias\n",
    "\n",
    "print(cal.add(45,89))\n",
    "print(cal.sub(89,23))\n",
    "\n",
    "#dir(cal)\n",
    "help(cal)"
   ]
  },
  {
   "cell_type": "code",
   "execution_count": null,
   "id": "6d091f63",
   "metadata": {},
   "outputs": [
    {
     "name": "stdout",
     "output_type": "stream",
     "text": [
      "101\n",
      "11.5\n"
     ]
    }
   ],
   "source": [
    "from calculator_mod import add,div\n",
    "\n",
    "print(add(56,45))\n",
    "print(div(23,2))"
   ]
  },
  {
   "cell_type": "code",
   "execution_count": null,
   "id": "0d24fc52",
   "metadata": {},
   "outputs": [
    {
     "data": {
      "text/plain": [
       "4050"
      ]
     },
     "execution_count": 17,
     "metadata": {},
     "output_type": "execute_result"
    }
   ],
   "source": [
    "from calculator_mod import *\n",
    "print(mult(45,90))"
   ]
  },
  {
   "cell_type": "code",
   "execution_count": 19,
   "id": "4d457cf0",
   "metadata": {},
   "outputs": [
    {
     "name": "stdout",
     "output_type": "stream",
     "text": [
      "0.8939966636005579\n",
      "120\n"
     ]
    }
   ],
   "source": [
    "import math as M\n",
    "# dir(math)\n",
    "print(M.sin(90))\n",
    "print(M.factorial(5))\n"
   ]
  },
  {
   "cell_type": "code",
   "execution_count": 21,
   "id": "6abe6f79",
   "metadata": {},
   "outputs": [
    {
     "data": {
      "text/plain": [
       "['__breakpointhook__',\n",
       " '__displayhook__',\n",
       " '__doc__',\n",
       " '__excepthook__',\n",
       " '__interactivehook__',\n",
       " '__loader__',\n",
       " '__name__',\n",
       " '__package__',\n",
       " '__spec__',\n",
       " '__stderr__',\n",
       " '__stdin__',\n",
       " '__stdout__',\n",
       " '__unraisablehook__',\n",
       " '_base_executable',\n",
       " '_clear_type_cache',\n",
       " '_current_exceptions',\n",
       " '_current_frames',\n",
       " '_debugmallocstats',\n",
       " '_framework',\n",
       " '_getframe',\n",
       " '_getquickenedcount',\n",
       " '_git',\n",
       " '_home',\n",
       " '_stdlib_dir',\n",
       " '_xoptions',\n",
       " 'abiflags',\n",
       " 'addaudithook',\n",
       " 'api_version',\n",
       " 'argv',\n",
       " 'audit',\n",
       " 'base_exec_prefix',\n",
       " 'base_prefix',\n",
       " 'breakpointhook',\n",
       " 'builtin_module_names',\n",
       " 'byteorder',\n",
       " 'call_tracing',\n",
       " 'copyright',\n",
       " 'displayhook',\n",
       " 'dont_write_bytecode',\n",
       " 'exc_info',\n",
       " 'excepthook',\n",
       " 'exception',\n",
       " 'exec_prefix',\n",
       " 'executable',\n",
       " 'exit',\n",
       " 'flags',\n",
       " 'float_info',\n",
       " 'float_repr_style',\n",
       " 'get_asyncgen_hooks',\n",
       " 'get_coroutine_origin_tracking_depth',\n",
       " 'get_int_max_str_digits',\n",
       " 'getallocatedblocks',\n",
       " 'getdefaultencoding',\n",
       " 'getdlopenflags',\n",
       " 'getfilesystemencodeerrors',\n",
       " 'getfilesystemencoding',\n",
       " 'getprofile',\n",
       " 'getrecursionlimit',\n",
       " 'getrefcount',\n",
       " 'getsizeof',\n",
       " 'getswitchinterval',\n",
       " 'gettrace',\n",
       " 'hash_info',\n",
       " 'hexversion',\n",
       " 'implementation',\n",
       " 'int_info',\n",
       " 'intern',\n",
       " 'is_finalizing',\n",
       " 'last_traceback',\n",
       " 'last_type',\n",
       " 'last_value',\n",
       " 'maxsize',\n",
       " 'maxunicode',\n",
       " 'meta_path',\n",
       " 'modules',\n",
       " 'orig_argv',\n",
       " 'path',\n",
       " 'path_hooks',\n",
       " 'path_importer_cache',\n",
       " 'platform',\n",
       " 'platlibdir',\n",
       " 'prefix',\n",
       " 'ps1',\n",
       " 'ps2',\n",
       " 'ps3',\n",
       " 'pycache_prefix',\n",
       " 'set_asyncgen_hooks',\n",
       " 'set_coroutine_origin_tracking_depth',\n",
       " 'set_int_max_str_digits',\n",
       " 'setdlopenflags',\n",
       " 'setprofile',\n",
       " 'setrecursionlimit',\n",
       " 'setswitchinterval',\n",
       " 'settrace',\n",
       " 'stderr',\n",
       " 'stdin',\n",
       " 'stdlib_module_names',\n",
       " 'stdout',\n",
       " 'thread_info',\n",
       " 'unraisablehook',\n",
       " 'version',\n",
       " 'version_info',\n",
       " 'warnoptions']"
      ]
     },
     "execution_count": 21,
     "metadata": {},
     "output_type": "execute_result"
    }
   ],
   "source": [
    "import sys\n",
    "dir(sys)"
   ]
  },
  {
   "cell_type": "code",
   "execution_count": 26,
   "id": "26a8d8e8",
   "metadata": {},
   "outputs": [
    {
     "data": {
      "text/plain": [
       "['__class__',\n",
       " '__class_getitem__',\n",
       " '__contains__',\n",
       " '__delattr__',\n",
       " '__delitem__',\n",
       " '__dir__',\n",
       " '__doc__',\n",
       " '__eq__',\n",
       " '__format__',\n",
       " '__ge__',\n",
       " '__getattribute__',\n",
       " '__getitem__',\n",
       " '__getstate__',\n",
       " '__gt__',\n",
       " '__hash__',\n",
       " '__init__',\n",
       " '__init_subclass__',\n",
       " '__ior__',\n",
       " '__iter__',\n",
       " '__le__',\n",
       " '__len__',\n",
       " '__lt__',\n",
       " '__ne__',\n",
       " '__new__',\n",
       " '__or__',\n",
       " '__reduce__',\n",
       " '__reduce_ex__',\n",
       " '__repr__',\n",
       " '__reversed__',\n",
       " '__ror__',\n",
       " '__setattr__',\n",
       " '__setitem__',\n",
       " '__sizeof__',\n",
       " '__str__',\n",
       " '__subclasshook__',\n",
       " 'clear',\n",
       " 'copy',\n",
       " 'fromkeys',\n",
       " 'get',\n",
       " 'items',\n",
       " 'keys',\n",
       " 'pop',\n",
       " 'popitem',\n",
       " 'setdefault',\n",
       " 'update',\n",
       " 'values']"
      ]
     },
     "execution_count": 26,
     "metadata": {},
     "output_type": "execute_result"
    }
   ],
   "source": [
    "from sys import modules\n",
    "dir(modules)"
   ]
  },
  {
   "cell_type": "code",
   "execution_count": 27,
   "id": "d1b1fd05",
   "metadata": {},
   "outputs": [
    {
     "data": {
      "text/plain": [
       "['CLD_CONTINUED',\n",
       " 'CLD_DUMPED',\n",
       " 'CLD_EXITED',\n",
       " 'CLD_KILLED',\n",
       " 'CLD_STOPPED',\n",
       " 'CLD_TRAPPED',\n",
       " 'DirEntry',\n",
       " 'EX_CANTCREAT',\n",
       " 'EX_CONFIG',\n",
       " 'EX_DATAERR',\n",
       " 'EX_IOERR',\n",
       " 'EX_NOHOST',\n",
       " 'EX_NOINPUT',\n",
       " 'EX_NOPERM',\n",
       " 'EX_NOUSER',\n",
       " 'EX_OK',\n",
       " 'EX_OSERR',\n",
       " 'EX_OSFILE',\n",
       " 'EX_PROTOCOL',\n",
       " 'EX_SOFTWARE',\n",
       " 'EX_TEMPFAIL',\n",
       " 'EX_UNAVAILABLE',\n",
       " 'EX_USAGE',\n",
       " 'F_LOCK',\n",
       " 'F_OK',\n",
       " 'F_TEST',\n",
       " 'F_TLOCK',\n",
       " 'F_ULOCK',\n",
       " 'GenericAlias',\n",
       " 'Mapping',\n",
       " 'MutableMapping',\n",
       " 'NGROUPS_MAX',\n",
       " 'O_ACCMODE',\n",
       " 'O_APPEND',\n",
       " 'O_ASYNC',\n",
       " 'O_CLOEXEC',\n",
       " 'O_CREAT',\n",
       " 'O_DIRECTORY',\n",
       " 'O_DSYNC',\n",
       " 'O_EVTONLY',\n",
       " 'O_EXCL',\n",
       " 'O_EXLOCK',\n",
       " 'O_FSYNC',\n",
       " 'O_NDELAY',\n",
       " 'O_NOCTTY',\n",
       " 'O_NOFOLLOW',\n",
       " 'O_NOFOLLOW_ANY',\n",
       " 'O_NONBLOCK',\n",
       " 'O_RDONLY',\n",
       " 'O_RDWR',\n",
       " 'O_SHLOCK',\n",
       " 'O_SYMLINK',\n",
       " 'O_SYNC',\n",
       " 'O_TRUNC',\n",
       " 'O_WRONLY',\n",
       " 'POSIX_SPAWN_CLOSE',\n",
       " 'POSIX_SPAWN_DUP2',\n",
       " 'POSIX_SPAWN_OPEN',\n",
       " 'PRIO_PGRP',\n",
       " 'PRIO_PROCESS',\n",
       " 'PRIO_USER',\n",
       " 'P_ALL',\n",
       " 'P_NOWAIT',\n",
       " 'P_NOWAITO',\n",
       " 'P_PGID',\n",
       " 'P_PID',\n",
       " 'P_WAIT',\n",
       " 'PathLike',\n",
       " 'RTLD_GLOBAL',\n",
       " 'RTLD_LAZY',\n",
       " 'RTLD_LOCAL',\n",
       " 'RTLD_NODELETE',\n",
       " 'RTLD_NOLOAD',\n",
       " 'RTLD_NOW',\n",
       " 'R_OK',\n",
       " 'SCHED_FIFO',\n",
       " 'SCHED_OTHER',\n",
       " 'SCHED_RR',\n",
       " 'SEEK_CUR',\n",
       " 'SEEK_DATA',\n",
       " 'SEEK_END',\n",
       " 'SEEK_HOLE',\n",
       " 'SEEK_SET',\n",
       " 'ST_NOSUID',\n",
       " 'ST_RDONLY',\n",
       " 'TMP_MAX',\n",
       " 'WCONTINUED',\n",
       " 'WCOREDUMP',\n",
       " 'WEXITED',\n",
       " 'WEXITSTATUS',\n",
       " 'WIFCONTINUED',\n",
       " 'WIFEXITED',\n",
       " 'WIFSIGNALED',\n",
       " 'WIFSTOPPED',\n",
       " 'WNOHANG',\n",
       " 'WNOWAIT',\n",
       " 'WSTOPPED',\n",
       " 'WSTOPSIG',\n",
       " 'WTERMSIG',\n",
       " 'WUNTRACED',\n",
       " 'W_OK',\n",
       " 'X_OK',\n",
       " '_Environ',\n",
       " '__all__',\n",
       " '__builtins__',\n",
       " '__doc__',\n",
       " '__file__',\n",
       " '__loader__',\n",
       " '__name__',\n",
       " '__package__',\n",
       " '__spec__',\n",
       " '_check_methods',\n",
       " '_execvpe',\n",
       " '_exists',\n",
       " '_exit',\n",
       " '_fspath',\n",
       " '_fwalk',\n",
       " '_get_exports_list',\n",
       " '_spawnvef',\n",
       " '_walk',\n",
       " '_wrap_close',\n",
       " 'abc',\n",
       " 'abort',\n",
       " 'access',\n",
       " 'altsep',\n",
       " 'chdir',\n",
       " 'chflags',\n",
       " 'chmod',\n",
       " 'chown',\n",
       " 'chroot',\n",
       " 'close',\n",
       " 'closerange',\n",
       " 'confstr',\n",
       " 'confstr_names',\n",
       " 'cpu_count',\n",
       " 'ctermid',\n",
       " 'curdir',\n",
       " 'defpath',\n",
       " 'device_encoding',\n",
       " 'devnull',\n",
       " 'dup',\n",
       " 'dup2',\n",
       " 'environ',\n",
       " 'environb',\n",
       " 'error',\n",
       " 'execl',\n",
       " 'execle',\n",
       " 'execlp',\n",
       " 'execlpe',\n",
       " 'execv',\n",
       " 'execve',\n",
       " 'execvp',\n",
       " 'execvpe',\n",
       " 'extsep',\n",
       " 'fchdir',\n",
       " 'fchmod',\n",
       " 'fchown',\n",
       " 'fdopen',\n",
       " 'fork',\n",
       " 'forkpty',\n",
       " 'fpathconf',\n",
       " 'fsdecode',\n",
       " 'fsencode',\n",
       " 'fspath',\n",
       " 'fstat',\n",
       " 'fstatvfs',\n",
       " 'fsync',\n",
       " 'ftruncate',\n",
       " 'fwalk',\n",
       " 'get_blocking',\n",
       " 'get_exec_path',\n",
       " 'get_inheritable',\n",
       " 'get_terminal_size',\n",
       " 'getcwd',\n",
       " 'getcwdb',\n",
       " 'getegid',\n",
       " 'getenv',\n",
       " 'getenvb',\n",
       " 'geteuid',\n",
       " 'getgid',\n",
       " 'getgrouplist',\n",
       " 'getgroups',\n",
       " 'getloadavg',\n",
       " 'getlogin',\n",
       " 'getpgid',\n",
       " 'getpgrp',\n",
       " 'getpid',\n",
       " 'getppid',\n",
       " 'getpriority',\n",
       " 'getsid',\n",
       " 'getuid',\n",
       " 'initgroups',\n",
       " 'isatty',\n",
       " 'kill',\n",
       " 'killpg',\n",
       " 'lchflags',\n",
       " 'lchmod',\n",
       " 'lchown',\n",
       " 'linesep',\n",
       " 'link',\n",
       " 'listdir',\n",
       " 'lockf',\n",
       " 'login_tty',\n",
       " 'lseek',\n",
       " 'lstat',\n",
       " 'major',\n",
       " 'makedev',\n",
       " 'makedirs',\n",
       " 'minor',\n",
       " 'mkdir',\n",
       " 'mkfifo',\n",
       " 'mknod',\n",
       " 'name',\n",
       " 'nice',\n",
       " 'open',\n",
       " 'openpty',\n",
       " 'pardir',\n",
       " 'path',\n",
       " 'pathconf',\n",
       " 'pathconf_names',\n",
       " 'pathsep',\n",
       " 'pipe',\n",
       " 'popen',\n",
       " 'posix_spawn',\n",
       " 'posix_spawnp',\n",
       " 'pread',\n",
       " 'preadv',\n",
       " 'putenv',\n",
       " 'pwrite',\n",
       " 'pwritev',\n",
       " 'read',\n",
       " 'readlink',\n",
       " 'readv',\n",
       " 'register_at_fork',\n",
       " 'remove',\n",
       " 'removedirs',\n",
       " 'rename',\n",
       " 'renames',\n",
       " 'replace',\n",
       " 'rmdir',\n",
       " 'scandir',\n",
       " 'sched_get_priority_max',\n",
       " 'sched_get_priority_min',\n",
       " 'sched_yield',\n",
       " 'sendfile',\n",
       " 'sep',\n",
       " 'set_blocking',\n",
       " 'set_inheritable',\n",
       " 'setegid',\n",
       " 'seteuid',\n",
       " 'setgid',\n",
       " 'setgroups',\n",
       " 'setpgid',\n",
       " 'setpgrp',\n",
       " 'setpriority',\n",
       " 'setregid',\n",
       " 'setreuid',\n",
       " 'setsid',\n",
       " 'setuid',\n",
       " 'spawnl',\n",
       " 'spawnle',\n",
       " 'spawnlp',\n",
       " 'spawnlpe',\n",
       " 'spawnv',\n",
       " 'spawnve',\n",
       " 'spawnvp',\n",
       " 'spawnvpe',\n",
       " 'st',\n",
       " 'stat',\n",
       " 'stat_result',\n",
       " 'statvfs',\n",
       " 'statvfs_result',\n",
       " 'strerror',\n",
       " 'supports_bytes_environ',\n",
       " 'supports_dir_fd',\n",
       " 'supports_effective_ids',\n",
       " 'supports_fd',\n",
       " 'supports_follow_symlinks',\n",
       " 'symlink',\n",
       " 'sync',\n",
       " 'sys',\n",
       " 'sysconf',\n",
       " 'sysconf_names',\n",
       " 'system',\n",
       " 'tcgetpgrp',\n",
       " 'tcsetpgrp',\n",
       " 'terminal_size',\n",
       " 'times',\n",
       " 'times_result',\n",
       " 'truncate',\n",
       " 'ttyname',\n",
       " 'umask',\n",
       " 'uname',\n",
       " 'uname_result',\n",
       " 'unlink',\n",
       " 'unsetenv',\n",
       " 'urandom',\n",
       " 'utime',\n",
       " 'wait',\n",
       " 'wait3',\n",
       " 'wait4',\n",
       " 'waitpid',\n",
       " 'waitstatus_to_exitcode',\n",
       " 'walk',\n",
       " 'write',\n",
       " 'writev']"
      ]
     },
     "execution_count": 27,
     "metadata": {},
     "output_type": "execute_result"
    }
   ],
   "source": [
    "import os\n",
    "dir(os)"
   ]
  },
  {
   "cell_type": "code",
   "execution_count": 32,
   "id": "660f4026",
   "metadata": {},
   "outputs": [
    {
     "data": {
      "text/plain": [
       "['__call__',\n",
       " '__class__',\n",
       " '__delattr__',\n",
       " '__dir__',\n",
       " '__doc__',\n",
       " '__eq__',\n",
       " '__format__',\n",
       " '__ge__',\n",
       " '__getattribute__',\n",
       " '__getstate__',\n",
       " '__gt__',\n",
       " '__hash__',\n",
       " '__init__',\n",
       " '__init_subclass__',\n",
       " '__le__',\n",
       " '__lt__',\n",
       " '__module__',\n",
       " '__name__',\n",
       " '__ne__',\n",
       " '__new__',\n",
       " '__qualname__',\n",
       " '__reduce__',\n",
       " '__reduce_ex__',\n",
       " '__repr__',\n",
       " '__self__',\n",
       " '__setattr__',\n",
       " '__sizeof__',\n",
       " '__str__',\n",
       " '__subclasshook__',\n",
       " '__text_signature__']"
      ]
     },
     "execution_count": 32,
     "metadata": {},
     "output_type": "execute_result"
    }
   ],
   "source": [
    "from os import system\n",
    "dir(system)"
   ]
  },
  {
   "cell_type": "code",
   "execution_count": 35,
   "id": "dcf7573f",
   "metadata": {},
   "outputs": [
    {
     "name": "stdout",
     "output_type": "stream",
     "text": [
      "(4, 5, 'Surendra', 43)\n"
     ]
    }
   ],
   "source": [
    "# variable argument function\n",
    "\n",
    "def vararg(*arg):\n",
    "    '''Variable argument function'''\n",
    "    print(arg)\n",
    "\n",
    "\n",
    "vararg(4,5,'Surendra',43)"
   ]
  },
  {
   "cell_type": "markdown",
   "id": "de3cd009",
   "metadata": {},
   "source": [
    "Assignment1.\n",
    "# Create Multiplier function which takes any number of numeric values\n",
    "# Return Multiplication of all \n",
    "mult(3,5,6,8) = 3*5*6*8 "
   ]
  },
  {
   "cell_type": "code",
   "execution_count": 37,
   "id": "4fc18255",
   "metadata": {},
   "outputs": [
    {
     "name": "stdout",
     "output_type": "stream",
     "text": [
      "(7, 23, 8)\n",
      "{'name': 'Surendra', 'age': 47}\n"
     ]
    }
   ],
   "source": [
    "def keywords(*arg,**kwarg):\n",
    "    print(arg)\n",
    "    print(kwarg)\n",
    "\n",
    "\n",
    "keywords(7,23,8, name=\"Surendra\",age=47)"
   ]
  },
  {
   "cell_type": "code",
   "execution_count": null,
   "id": "f51fbec1",
   "metadata": {},
   "outputs": [],
   "source": [
    "lambda\n",
    "filter\n",
    "map\n",
    "sum,max,min"
   ]
  },
  {
   "cell_type": "code",
   "execution_count": 39,
   "id": "4ada4b09",
   "metadata": {},
   "outputs": [
    {
     "data": {
      "text/plain": [
       "114"
      ]
     },
     "execution_count": 39,
     "metadata": {},
     "output_type": "execute_result"
    }
   ],
   "source": [
    "#lambda it is annonymous function\n",
    "\n",
    "add = lambda arg1, arg2 : arg1 + arg2\n",
    "\n",
    "add(34,80)"
   ]
  },
  {
   "cell_type": "code",
   "execution_count": 41,
   "id": "bfbf13be",
   "metadata": {},
   "outputs": [
    {
     "name": "stdout",
     "output_type": "stream",
     "text": [
      "Lambdas\n",
      "*******\n",
      "\n",
      "   lambda_expr ::= \"lambda\" [parameter_list] \":\" expression\n",
      "\n",
      "Lambda expressions (sometimes called lambda forms) are used to create\n",
      "anonymous functions. The expression \"lambda parameters: expression\"\n",
      "yields a function object.  The unnamed object behaves like a function\n",
      "object defined with:\n",
      "\n",
      "   def <lambda>(parameters):\n",
      "       return expression\n",
      "\n",
      "See section Function definitions for the syntax of parameter lists.\n",
      "Note that functions created with lambda expressions cannot contain\n",
      "statements or annotations.\n",
      "\n",
      "Related help topics: FUNCTIONS\n",
      "\n"
     ]
    }
   ],
   "source": [
    "help('lambda')"
   ]
  },
  {
   "cell_type": "code",
   "execution_count": null,
   "id": "ed77fe70",
   "metadata": {},
   "outputs": [],
   "source": [
    "# filter\n",
    "filter it return those values from the sequence where function is True\n",
    "\n",
    "filter(function, sequence)"
   ]
  },
  {
   "cell_type": "code",
   "execution_count": 46,
   "id": "2a1eeb2e",
   "metadata": {},
   "outputs": [
    {
     "name": "stdout",
     "output_type": "stream",
     "text": [
      "[1, 2, 3, 4, 5, 6, 7, 8, 9, 10, 11, 12, 13, 14, 15, 16, 17, 18, 19]\n",
      "[1, 5, 7, 11, 13, 17, 19]\n"
     ]
    }
   ],
   "source": [
    "sequence = list(range(1,20))\n",
    "print(sequence)\n",
    "\n",
    "result = filter(lambda arg : arg % 2 != 0 and arg % 3 !=0 , sequence)\n",
    "\n",
    "print(list(result))\n"
   ]
  },
  {
   "cell_type": "markdown",
   "id": "73eb8035",
   "metadata": {},
   "source": [
    "Assignment2: Filter Employee Salary Greater than 40,000 and less than 1,00,000.\n",
    "Salary = list(range(10000, 200000, 10000))"
   ]
  },
  {
   "cell_type": "code",
   "execution_count": null,
   "id": "58077a38",
   "metadata": {},
   "outputs": [],
   "source": [
    "map(function,sequences)"
   ]
  },
  {
   "cell_type": "code",
   "execution_count": 47,
   "id": "6754ff2e",
   "metadata": {},
   "outputs": [
    {
     "data": {
      "text/plain": [
       "[1, 8, 64, 125, 216]"
      ]
     },
     "execution_count": 47,
     "metadata": {},
     "output_type": "execute_result"
    }
   ],
   "source": [
    "list(map(lambda arg : arg**3, [1,2,4,5,6] ))"
   ]
  },
  {
   "cell_type": "code",
   "execution_count": 48,
   "id": "0497d1e3",
   "metadata": {},
   "outputs": [
    {
     "data": {
      "text/plain": [
       "[7, 9, 11, 13, 15]"
      ]
     },
     "execution_count": 48,
     "metadata": {},
     "output_type": "execute_result"
    }
   ],
   "source": [
    "list(map(lambda arg1, arg2 : arg1 + arg2 , [1,2,3,4,5],[6,7,8,9,10]))"
   ]
  },
  {
   "cell_type": "code",
   "execution_count": 51,
   "id": "f5fd21ce",
   "metadata": {},
   "outputs": [
    {
     "data": {
      "text/plain": [
       "[1, 5, 7, 11, 13, 17, 19]"
      ]
     },
     "execution_count": 51,
     "metadata": {},
     "output_type": "execute_result"
    }
   ],
   "source": [
    "#List Comprehension\n",
    "\n",
    "[ num for num in range(1,20) if num % 2 != 0 and num % 3 !=0 ]"
   ]
  },
  {
   "cell_type": "code",
   "execution_count": 54,
   "id": "d2256082",
   "metadata": {},
   "outputs": [
    {
     "name": "stdout",
     "output_type": "stream",
     "text": [
      "What is name and Answer is Surendra\n",
      "What is age and Answer is 47\n",
      "What is city and Answer is Pune\n"
     ]
    }
   ],
   "source": [
    "Ques = ['name','age','city']\n",
    "Ans = ['Surendra','47','Pune']\n",
    "\n",
    "QA = list(zip(Ques,Ans))\n",
    "for q,a in QA:\n",
    "    print(\"What is %s and Answer is %s\"%(q,a))\n"
   ]
  },
  {
   "cell_type": "code",
   "execution_count": null,
   "id": "9cecf6fe",
   "metadata": {},
   "outputs": [
    {
     "data": {
      "text/plain": [
       "{'name': 'Surendra', 'age': 47}"
      ]
     },
     "execution_count": 56,
     "metadata": {},
     "output_type": "execute_result"
    }
   ],
   "source": [
    "{ key : value for key, value in {'name':'Surendra','age':47}.items() }"
   ]
  },
  {
   "cell_type": "code",
   "execution_count": 68,
   "id": "e9442194",
   "metadata": {},
   "outputs": [
    {
     "name": "stdout",
     "output_type": "stream",
     "text": [
      "{'name': 'Surendra', 'age': '47', 'city': 'Pune'}\n",
      "dict_items([('name', 'Surendra'), ('age', '47'), ('city', 'Pune')])\n",
      "{'name': 'Surendra'}\n"
     ]
    }
   ],
   "source": [
    "QA = dict(zip(Ques,Ans))\n",
    "print(QA)\n",
    "List_of_tuple = QA.items()\n",
    "print(List_of_tuple)\n",
    "\n",
    "print({ name : value for name, value in List_of_tuple if value == 'Surendra'})"
   ]
  },
  {
   "cell_type": "code",
   "execution_count": null,
   "id": "1edf2c73",
   "metadata": {},
   "outputs": [
    {
     "name": "stdout",
     "output_type": "stream",
     "text": [
      "{'age': '47'}\n"
     ]
    }
   ],
   "source": [
    "print({ name : value for name, value in List_of_tuple if value == '47' })"
   ]
  },
  {
   "cell_type": "code",
   "execution_count": null,
   "id": "b2286d9f",
   "metadata": {},
   "outputs": [
    {
     "name": "stdout",
     "output_type": "stream",
     "text": [
      "{'python', 'java', 'dotnet'}\n"
     ]
    }
   ],
   "source": [
    "# Set is collection of unique and immutable objects\n",
    "courses = ['python','java','dotnet','python','java']\n",
    "\n",
    "course_set = set(courses)\n",
    "\n",
    "print(course_set)"
   ]
  },
  {
   "cell_type": "code",
   "execution_count": 71,
   "id": "9366696d",
   "metadata": {},
   "outputs": [],
   "source": [
    "#dir(set)"
   ]
  },
  {
   "cell_type": "markdown",
   "id": "15c635c1",
   "metadata": {},
   "source": [
    "Object Orientd Programming\n"
   ]
  },
  {
   "cell_type": "code",
   "execution_count": 88,
   "id": "571128a5",
   "metadata": {},
   "outputs": [
    {
     "name": "stdout",
     "output_type": "stream",
     "text": [
      "Overwriting bankmodule.py\n"
     ]
    }
   ],
   "source": [
    "%%writefile bankmodule.py\n",
    "\n",
    "class BankApp:\n",
    "    '''BankApplication for Customers'''\n",
    "    ifsc = 100 #Class Variable\n",
    "\n",
    "    def __init__(self,name, branch, city):\n",
    "        '''Initilisation of class'''\n",
    "        BankApp.ifsc += 1\n",
    "        self.name = name #Object Variable\n",
    "        self.branch = branch\n",
    "        self.city = city\n",
    "        print(\"Ifsc code is icici00%d \"%BankApp.ifsc)\n",
    "\n",
    "    def info(self):\n",
    "        print(\"Bank name is %s, city is %s\"%(self.name,self.city))\n",
    "        print(\"Brach name is %s \"%self.branch)\n",
    "\n",
    "if __name__ == \"__main__\":\n",
    "    B1 = BankApp(\"ICICI Bank\",\"Anand Nagar\",\"Pune\")\n",
    "    B1.info()\n",
    "    B2 = BankApp(\"ICICI Bank\",\"Kothrud\",\"Pune\")\n",
    "    B2.info()\n",
    "    B3 = BankApp(\"ICICI Bank\",\"Baner\",\"Pune\")\n",
    "    B3.info()"
   ]
  },
  {
   "cell_type": "code",
   "execution_count": 92,
   "id": "412d7cd2",
   "metadata": {},
   "outputs": [
    {
     "name": "stdout",
     "output_type": "stream",
     "text": [
      "Ifsc code is icici00110 \n",
      "Bank name is ICICI Bank, city is Pune\n",
      "Brach name is Anand Nagar \n",
      "Customer name is Surendra and age is 47\n",
      "Ifsc code is icici00111 \n",
      "Bank name is ICICI Bank, city is Pune\n",
      "Brach name is Kothrud \n",
      "Ifsc code is icici00112 \n",
      "Bank name is ICICI Bank, city is Pune\n",
      "Brach name is Baner \n"
     ]
    }
   ],
   "source": [
    "from bankmodule import BankApp\n",
    "\n",
    "class Customer(BankApp):\n",
    "    '''Bank Customer Information '''\n",
    "    def customer_info(self,cname,age):\n",
    "        '''Customer Information'''\n",
    "        print(\"Customer name is %s and age is %d\"%(cname,age))\n",
    "\n",
    "\n",
    "C1 = Customer(\"ICICI Bank\",\"Anand Nagar\",\"Pune\")\n",
    "C1.info()\n",
    "C1.customer_info(\"Surendra\",47)\n",
    "C2 = Customer(\"ICICI Bank\",\"Kothrud\",\"Pune\")\n",
    "C2.info()\n",
    "C3 = Customer(\"ICICI Bank\",\"Baner\",\"Pune\")\n",
    "C3.info()\n"
   ]
  }
 ],
 "metadata": {
  "kernelspec": {
   "display_name": "base",
   "language": "python",
   "name": "python3"
  },
  "language_info": {
   "codemirror_mode": {
    "name": "ipython",
    "version": 3
   },
   "file_extension": ".py",
   "mimetype": "text/x-python",
   "name": "python",
   "nbconvert_exporter": "python",
   "pygments_lexer": "ipython3",
   "version": "3.11.7"
  }
 },
 "nbformat": 4,
 "nbformat_minor": 5
}
