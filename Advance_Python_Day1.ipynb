{
 "cells": [
  {
   "cell_type": "code",
   "execution_count": 30,
   "id": "6037ab21",
   "metadata": {},
   "outputs": [
    {
     "name": "stdout",
     "output_type": "stream",
     "text": [
      "Welcome to Python\n"
     ]
    }
   ],
   "source": [
    "print(\"Welcome to Python\")\n"
   ]
  },
  {
   "cell_type": "code",
   "execution_count": 31,
   "id": "0cdd3034",
   "metadata": {},
   "outputs": [
    {
     "name": "stdout",
     "output_type": "stream",
     "text": [
      "<class 'str'>\n",
      " Surendra Panpaliya doesn't\n",
      "It \"doesn\"t\"\n",
      "Multiple line of documents \n"
     ]
    }
   ],
   "source": [
    "# Data types\n",
    "data = ''' Surendra Panpaliya doesn't\n",
    "It \"doesn\"t\"\n",
    "Multiple line of documents '''\n",
    "\n",
    "print(type(data))\n",
    "print(data)"
   ]
  },
  {
   "cell_type": "code",
   "execution_count": 32,
   "id": "c3d314b2",
   "metadata": {},
   "outputs": [
    {
     "name": "stdout",
     "output_type": "stream",
     "text": [
      "<class 'bool'>\n",
      "True\n"
     ]
    }
   ],
   "source": [
    "# Data types\n",
    "data = True # False\n",
    "print(type(data))\n",
    "print(data)"
   ]
  },
  {
   "cell_type": "code",
   "execution_count": 33,
   "id": "f0938bd9",
   "metadata": {},
   "outputs": [
    {
     "name": "stdout",
     "output_type": "stream",
     "text": [
      "<class 'complex'>\n",
      "(5+10j)\n",
      "5.0\n",
      "10.0\n"
     ]
    },
    {
     "data": {
      "text/plain": [
       "(5-10j)"
      ]
     },
     "execution_count": 33,
     "metadata": {},
     "output_type": "execute_result"
    }
   ],
   "source": [
    "# Data types\n",
    "data = 5 + 10j\n",
    "print(type(data))\n",
    "print(data)\n",
    "print(data.real)\n",
    "print(data.imag)\n",
    "data.conjugate()"
   ]
  },
  {
   "cell_type": "code",
   "execution_count": 34,
   "id": "c091cbd6",
   "metadata": {},
   "outputs": [
    {
     "name": "stdout",
     "output_type": "stream",
     "text": [
      "Help on complex object:\n",
      "\n",
      "class complex(object)\n",
      " |  complex(real=0, imag=0)\n",
      " |  \n",
      " |  Create a complex number from a real part and an optional imaginary part.\n",
      " |  \n",
      " |  This is equivalent to (real + imag*1j) where imag defaults to 0.\n",
      " |  \n",
      " |  Methods defined here:\n",
      " |  \n",
      " |  __abs__(self, /)\n",
      " |      abs(self)\n",
      " |  \n",
      " |  __add__(self, value, /)\n",
      " |      Return self+value.\n",
      " |  \n",
      " |  __bool__(self, /)\n",
      " |      True if self else False\n",
      " |  \n",
      " |  __complex__(self, /)\n",
      " |      Convert this value to exact type complex.\n",
      " |  \n",
      " |  __eq__(self, value, /)\n",
      " |      Return self==value.\n",
      " |  \n",
      " |  __format__(self, format_spec, /)\n",
      " |      Convert to a string according to format_spec.\n",
      " |  \n",
      " |  __ge__(self, value, /)\n",
      " |      Return self>=value.\n",
      " |  \n",
      " |  __getattribute__(self, name, /)\n",
      " |      Return getattr(self, name).\n",
      " |  \n",
      " |  __getnewargs__(self, /)\n",
      " |  \n",
      " |  __gt__(self, value, /)\n",
      " |      Return self>value.\n",
      " |  \n",
      " |  __hash__(self, /)\n",
      " |      Return hash(self).\n",
      " |  \n",
      " |  __le__(self, value, /)\n",
      " |      Return self<=value.\n",
      " |  \n",
      " |  __lt__(self, value, /)\n",
      " |      Return self<value.\n",
      " |  \n",
      " |  __mul__(self, value, /)\n",
      " |      Return self*value.\n",
      " |  \n",
      " |  __ne__(self, value, /)\n",
      " |      Return self!=value.\n",
      " |  \n",
      " |  __neg__(self, /)\n",
      " |      -self\n",
      " |  \n",
      " |  __pos__(self, /)\n",
      " |      +self\n",
      " |  \n",
      " |  __pow__(self, value, mod=None, /)\n",
      " |      Return pow(self, value, mod).\n",
      " |  \n",
      " |  __radd__(self, value, /)\n",
      " |      Return value+self.\n",
      " |  \n",
      " |  __repr__(self, /)\n",
      " |      Return repr(self).\n",
      " |  \n",
      " |  __rmul__(self, value, /)\n",
      " |      Return value*self.\n",
      " |  \n",
      " |  __rpow__(self, value, mod=None, /)\n",
      " |      Return pow(value, self, mod).\n",
      " |  \n",
      " |  __rsub__(self, value, /)\n",
      " |      Return value-self.\n",
      " |  \n",
      " |  __rtruediv__(self, value, /)\n",
      " |      Return value/self.\n",
      " |  \n",
      " |  __sub__(self, value, /)\n",
      " |      Return self-value.\n",
      " |  \n",
      " |  __truediv__(self, value, /)\n",
      " |      Return self/value.\n",
      " |  \n",
      " |  conjugate(self, /)\n",
      " |      Return the complex conjugate of its argument. (3-4j).conjugate() == 3+4j.\n",
      " |  \n",
      " |  ----------------------------------------------------------------------\n",
      " |  Static methods defined here:\n",
      " |  \n",
      " |  __new__(*args, **kwargs) from builtins.type\n",
      " |      Create and return a new object.  See help(type) for accurate signature.\n",
      " |  \n",
      " |  ----------------------------------------------------------------------\n",
      " |  Data descriptors defined here:\n",
      " |  \n",
      " |  imag\n",
      " |      the imaginary part of a complex number\n",
      " |  \n",
      " |  real\n",
      " |      the real part of a complex number\n",
      "\n"
     ]
    }
   ],
   "source": [
    "help(data)"
   ]
  },
  {
   "cell_type": "code",
   "execution_count": 35,
   "id": "15cc122d",
   "metadata": {},
   "outputs": [
    {
     "name": "stdout",
     "output_type": "stream",
     "text": [
      "SURENDRA\n",
      "Surendra\n"
     ]
    }
   ],
   "source": [
    "#dir('Surendra')\n",
    "print('Surendra'.upper())\n",
    "print('surendra'.capitalize())"
   ]
  },
  {
   "cell_type": "code",
   "execution_count": 36,
   "id": "54eafe54",
   "metadata": {},
   "outputs": [],
   "source": [
    "# Data Structure\n",
    "# Mutable : list, dict, set\n",
    "# Immutable : tuple, str"
   ]
  },
  {
   "cell_type": "code",
   "execution_count": 37,
   "id": "bcebe29b",
   "metadata": {},
   "outputs": [
    {
     "name": "stdout",
     "output_type": "stream",
     "text": [
      "['Python']\n",
      "['Python', 'Jython']\n",
      "['Python', 'Jython', 'Iron Python']\n",
      "['Python', 'Jython', 'Iron Python', 'Java']\n",
      "['Python', 'Jython', 'Iron Python', 'Java', 'Python1']\n",
      "['Python', 'Jython', 'Iron Python', 'Java', 'Python1', 'Python2']\n",
      "['Jython', 'Iron Python', 'Java', 'Python1', 'Python2']\n",
      "['Iron Python', 'Java', 'Python1', 'Python2']\n",
      "['Java', 'Python1', 'Python2']\n"
     ]
    }
   ],
   "source": [
    "Book = [ ]\n",
    "type(Book)\n",
    "dir(Book)\n",
    "Book.append(\"Python\")\n",
    "print(Book)\n",
    "Book.append(\"Jython\")\n",
    "print(Book)\n",
    "Book.append(\"Iron Python\")\n",
    "print(Book)\n",
    "Book.append(\"Java\")\n",
    "print(Book)\n",
    "Book.append(\"Python1\")\n",
    "print(Book)\n",
    "Book.append(\"Python2\")\n",
    "print(Book)\n",
    "Book.pop(0)\n",
    "print(Book)\n",
    "Book.pop(0)\n",
    "print(Book)\n",
    "Book.pop(0)\n",
    "print(Book)\n"
   ]
  },
  {
   "cell_type": "code",
   "execution_count": 38,
   "id": "5b34ad40",
   "metadata": {},
   "outputs": [
    {
     "name": "stdout",
     "output_type": "stream",
     "text": [
      "['Java', 'Python1', 'Python2', 'Python1', 'Jython1', 'Iron Python1', 'Java1']\n",
      "['Adv Java', 'Python1', 'Python2', 'Python1', 'Jython1', 'Iron Python1', 'Java1']\n"
     ]
    }
   ],
   "source": [
    "book1 = ['Python1', 'Jython1', 'Iron Python1', 'Java1']\n",
    "\n",
    "Book.extend(book1)\n",
    "\n",
    "print(Book)\n",
    "\n",
    "Book[0] = 'Adv Java' # Mutable\n",
    "\n",
    "print(Book)"
   ]
  },
  {
   "cell_type": "code",
   "execution_count": 39,
   "id": "5c099c8a",
   "metadata": {},
   "outputs": [
    {
     "name": "stdout",
     "output_type": "stream",
     "text": [
      "['Adv Java', 'Python1', 'Python2', 'Python1', 'Jython1', 'Iron Python1', 'Java1']\n",
      "['Adv Java', 'Python1', 'Python2', 'Python1', 'Jython1', 'Iron Python1', 'Java1', ['Python1', 'Jython1', 'Iron Python1', 'Java1']]\n"
     ]
    }
   ],
   "source": [
    "\n",
    "print(Book)\n",
    "Book.append(book1)\n",
    "print(Book)"
   ]
  },
  {
   "cell_type": "markdown",
   "id": "2d67fde4",
   "metadata": {},
   "source": [
    "List is mutable sequence of any type objects ( int, float ..)."
   ]
  },
  {
   "cell_type": "code",
   "execution_count": 43,
   "id": "6357b868",
   "metadata": {},
   "outputs": [
    {
     "name": "stdout",
     "output_type": "stream",
     "text": [
      "('hydrabad', 'pune')\n"
     ]
    },
    {
     "data": {
      "text/plain": [
       "tuple"
      ]
     },
     "execution_count": 43,
     "metadata": {},
     "output_type": "execute_result"
    }
   ],
   "source": [
    "names = ()\n",
    "city = 'hydrabad','pune'\n",
    "print(city)\n",
    "type(city)"
   ]
  },
  {
   "cell_type": "code",
   "execution_count": null,
   "id": "3642f668",
   "metadata": {},
   "outputs": [
    {
     "ename": "TypeError",
     "evalue": "'tuple' object does not support item assignment",
     "output_type": "error",
     "traceback": [
      "\u001b[0;31m---------------------------------------------------------------------------\u001b[0m",
      "\u001b[0;31mTypeError\u001b[0m                                 Traceback (most recent call last)",
      "Cell \u001b[0;32mIn[45], line 1\u001b[0m\n\u001b[0;32m----> 1\u001b[0m city[\u001b[38;5;241m0\u001b[39m] \u001b[38;5;241m=\u001b[39m \u001b[38;5;124m\"\u001b[39m\u001b[38;5;124mBanglore\u001b[39m\u001b[38;5;124m\"\u001b[39m\n",
      "\u001b[0;31mTypeError\u001b[0m: 'tuple' object does not support item assignment"
     ]
    }
   ],
   "source": [
    "city[0] = \"Banglore\" # tuple is immutable"
   ]
  },
  {
   "cell_type": "markdown",
   "id": "9c663454",
   "metadata": {},
   "source": [
    "Dictionary Collection of Unique and immutable key and Value pairs. "
   ]
  },
  {
   "cell_type": "code",
   "execution_count": null,
   "id": "29128a3b",
   "metadata": {},
   "outputs": [
    {
     "name": "stdout",
     "output_type": "stream",
     "text": [
      "{'title': 'Python Book', 100: [4, 5, 56]}\n"
     ]
    }
   ],
   "source": [
    "Book_dict = { }\n",
    "type(Book_dict)\n",
    "Book_dict['title'] = \"Python Book\"\n",
    "Book_dict[100] = [4,5,56]\n",
    "print(Book_dict)\n"
   ]
  },
  {
   "cell_type": "code",
   "execution_count": 61,
   "id": "6ec80b4e",
   "metadata": {},
   "outputs": [
    {
     "name": "stdout",
     "output_type": "stream",
     "text": [
      "Writing greatest_of_three.py\n"
     ]
    }
   ],
   "source": [
    "%%writefile greatest_of_three.py\n",
    "\n",
    "# Control Structure\n",
    "# if elif else\n",
    "# greatest of three numbers\n",
    "\n",
    "first = int(input(\"Enter first:\"))\n",
    "second = int(input(\"Enter Second:\"))\n",
    "third = int(input(\"Enter third:\"))\n",
    "\n",
    "if first > second and first > third :\n",
    "    print(\"First is greater\",first)\n",
    "elif second > third:\n",
    "    print(\"second is greater\",second)\n",
    "else:\n",
    "    print(\"Third is greater\",third)"
   ]
  },
  {
   "cell_type": "code",
   "execution_count": null,
   "id": "82759023",
   "metadata": {},
   "outputs": [
    {
     "name": "stdout",
     "output_type": "stream",
     "text": [
      "Third is greater 59\n"
     ]
    }
   ],
   "source": [
    "run greatest_of_three.py"
   ]
  },
  {
   "cell_type": "markdown",
   "id": "0cc72a38",
   "metadata": {},
   "source": [
    "run greatest_of_three.py"
   ]
  }
 ],
 "metadata": {
  "kernelspec": {
   "display_name": "base",
   "language": "python",
   "name": "python3"
  },
  "language_info": {
   "codemirror_mode": {
    "name": "ipython",
    "version": 3
   },
   "file_extension": ".py",
   "mimetype": "text/x-python",
   "name": "python",
   "nbconvert_exporter": "python",
   "pygments_lexer": "ipython3",
   "version": "3.11.7"
  }
 },
 "nbformat": 4,
 "nbformat_minor": 5
}
