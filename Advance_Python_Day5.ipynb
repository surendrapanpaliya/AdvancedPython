{
 "cells": [
  {
   "cell_type": "markdown",
   "id": "db3df648",
   "metadata": {},
   "source": [
    "What is FastAPI? \n",
    "\n",
    "FastAPI is a modern, fast (high-performance), web framework for building APIs with Python 3.7+ based on standard Python type hints."
   ]
  },
  {
   "cell_type": "markdown",
   "id": "29f4b586",
   "metadata": {},
   "source": [
    "FastAPI is a web framework that allows you to build RESTful APIs easily and quickly. \n",
    "\n",
    "A RESTful API (Representational State Transfer API) is an architectural style for designing networked applications. \n",
    "\n",
    "It allows different software systems to communicate over the web (HTTP) using standard methods like GET, POST, PUT, and DELETE.\n",
    "\n",
    "It’s designed for building web APIs, especially microservices, and is built on top of:\n",
    "\n",
    "•\tStarlette (for web handling, routing, etc.)\n",
    "\n",
    "•\tStarlette is a lightweight ASGI (Asynchronous Server Gateway Interface) framework and toolkit for building high-performance async web applications and APIs in Python.\n",
    "•\tIt’s the core foundation upon which FastAPI is built.\n",
    " \n",
    "\n",
    "Pydantic (for data validation and settings management)\n",
    "\n",
    "•\tPydantic is a data validation and data parsing library based on Python type hints. \n",
    "\n",
    "It ensures that the data your application receives is correct, clean, and in the right format — automatically."
   ]
  },
  {
   "cell_type": "markdown",
   "id": "bac93221",
   "metadata": {},
   "source": [
    "Key Features of FastAPI\n",
    "\n",
    "1.\tFast: One of the fastest Python web frameworks (thanks to ASGI + Starlette + Pydantic).\n",
    "2.\tEasy to use: Designed to be intuitive and beginner-friendly.\n",
    "3.\tAutomatic docs: Generates OpenAPI and Swagger docs automatically.\n",
    "4.\tType safety: Uses Python type hints to provide editor support and runtime validation.\n",
    "5.\tAsync-ready: Supports async and await natively for high performance."
   ]
  },
  {
   "cell_type": "code",
   "execution_count": 1,
   "id": "6a2b2102",
   "metadata": {},
   "outputs": [],
   "source": [
    "mkdir fastapiex"
   ]
  },
  {
   "cell_type": "code",
   "execution_count": 2,
   "id": "7d211ff5",
   "metadata": {},
   "outputs": [
    {
     "name": "stdout",
     "output_type": "stream",
     "text": [
      "/Users/surendra/advance_python/fastapiex\n"
     ]
    }
   ],
   "source": [
    "cd fastapiex"
   ]
  },
  {
   "cell_type": "code",
   "execution_count": 3,
   "id": "8cb845ea",
   "metadata": {},
   "outputs": [
    {
     "data": {
      "text/plain": [
       "'/Users/surendra/advance_python/fastapiex'"
      ]
     },
     "execution_count": 3,
     "metadata": {},
     "output_type": "execute_result"
    }
   ],
   "source": [
    "import os\n",
    "\n",
    "os.getcwd()"
   ]
  },
  {
   "cell_type": "code",
   "execution_count": null,
   "id": "9a280606",
   "metadata": {},
   "outputs": [],
   "source": [
    "pip install fastapi uvicorn"
   ]
  },
  {
   "cell_type": "code",
   "execution_count": null,
   "id": "55e58dba",
   "metadata": {},
   "outputs": [],
   "source": [
    "pip install --upgrade pip"
   ]
  },
  {
   "cell_type": "code",
   "execution_count": 10,
   "id": "42ea6719",
   "metadata": {},
   "outputs": [],
   "source": [
    "import fastapi"
   ]
  },
  {
   "cell_type": "markdown",
   "id": "a02b0dc7",
   "metadata": {},
   "source": [
    "A simple API with one endpoint:\n",
    "\n",
    "GET /hello?name=YourName\n",
    "\n",
    "It returns a personalized greeting like:\n",
    "\n",
    "{\"message\": \"Hello, Surendra!\"}"
   ]
  },
  {
   "cell_type": "markdown",
   "id": "1a2e7db3",
   "metadata": {},
   "source": [
    "Step 1: Install FastAPI and Uvicorn\n",
    "\n",
    "Open your terminal or command prompt and run:\n",
    "\n",
    "pip install fastapi uvicorn\n",
    "\n",
    "•\tfastapi: The web framework\n",
    "•\tuvicorn: A lightweight ASGI server to run your app"
   ]
  },
  {
   "cell_type": "markdown",
   "id": "331a7a9e",
   "metadata": {},
   "source": [
    "Step 2: Create a File – main.py"
   ]
  },
  {
   "cell_type": "code",
   "execution_count": null,
   "id": "36b87acf",
   "metadata": {},
   "outputs": [],
   "source": [
    "from fastapi import FastAPI\n",
    "\n",
    "#help(FastAPI)"
   ]
  },
  {
   "cell_type": "code",
   "execution_count": 12,
   "id": "e5ffa793",
   "metadata": {},
   "outputs": [
    {
     "name": "stdout",
     "output_type": "stream",
     "text": [
      "Writing main.py\n"
     ]
    }
   ],
   "source": [
    "%%writefile main.py\n",
    "\n",
    "from fastapi import FastAPI\n",
    "\n",
    "# Step 1: Create FastAPI app instance\n",
    "app = FastAPI()\n",
    "\n",
    "# Step 2: Create a route\n",
    "@app.get(\"/hello\")\n",
    "def read_hello(name: str = \"World\"):\n",
    "    return {\"message\": f\"Hello, {name}!\"}"
   ]
  },
  {
   "cell_type": "markdown",
   "id": "b8a51e7d",
   "metadata": {},
   "source": [
    "Explanation:\n",
    "1.\tFastAPI(): Initializes the application.\n",
    "2.\t@app.get(\"/hello\"): Defines a GET endpoint /hello.\n",
    "3.\tname: str = \"World\": Accepts an optional query parameter name. Defaults to \"World\" if not provided.\n",
    "4.\tReturns: A dictionary that FastAPI converts to JSON."
   ]
  },
  {
   "cell_type": "markdown",
   "id": "ca0f14d1",
   "metadata": {},
   "source": [
    "Step 3: Run the App\n",
    "In your terminal, run:\n",
    "uvicorn main:app --reload\n",
    "📌 What it means:\n",
    "•\tmain = filename (main.py)\n",
    "•\tapp = your FastAPI instance\n",
    "•\t--reload = auto-reload server on code changes (good for development)"
   ]
  },
  {
   "cell_type": "markdown",
   "id": "19c2756f",
   "metadata": {},
   "source": [
    "Step 4: Test in Browser or Swagger UI\n",
    "\n",
    "Open your browser and go to:\n",
    "\n",
    "•\tInteractive Docs: http://127.0.0.1:8000/docs\n",
    "\n",
    "•\tTry It URL: http://127.0.0.1:8000/hello?name=Surendra\n"
   ]
  },
  {
   "cell_type": "markdown",
   "id": "4c92e5a4",
   "metadata": {},
   "source": [
    "Bonus: Automatic Documentation\n",
    "FastAPI automatically generates:\n",
    "•\tSwagger UI: /docs\n",
    "•\tReDoc UI: /redoc\n",
    "No extra setup required!"
   ]
  },
  {
   "cell_type": "code",
   "execution_count": null,
   "id": "48630b7c",
   "metadata": {},
   "outputs": [
    {
     "name": "stdout",
     "output_type": "stream",
     "text": [
      "Overwriting fastapi_ex1.py\n"
     ]
    }
   ],
   "source": [
    "%%writefile fastapi_ex1.py\n",
    "\n",
    "#Example: A Simple FastAPI App\n",
    "\n",
    "from fastapi import FastAPI\n",
    "\n",
    "app = FastAPI()\n",
    "\n",
    "@app.get(\"/\")\n",
    "def read_root():\n",
    "    return {\"message\": \"Hello, FastAPI!\"}\n",
    "\n"
   ]
  },
  {
   "cell_type": "markdown",
   "id": "1c1e0c61",
   "metadata": {},
   "source": [
    "Example: Basic Pydantic Model"
   ]
  },
  {
   "cell_type": "code",
   "execution_count": 44,
   "id": "62e321c1",
   "metadata": {},
   "outputs": [
    {
     "name": "stdout",
     "output_type": "stream",
     "text": [
      "id=1 name='Surendra' email='surendra@example.com'\n"
     ]
    }
   ],
   "source": [
    "from pydantic import BaseModel\n",
    "\n",
    "class User(BaseModel):\n",
    "    id: int\n",
    "    name: str\n",
    "    email: str\n",
    "\n",
    "# Valid input\n",
    "data = {\"id\": 1, \"name\": \"Surendra\", \"email\": \"surendra@example.com\"}\n",
    "\n",
    "user = User(**data)\n",
    "\n",
    "print(user)"
   ]
  },
  {
   "cell_type": "markdown",
   "id": "65a8b11f",
   "metadata": {},
   "source": [
    "❌ Example: Invalid Input Handling"
   ]
  },
  {
   "cell_type": "code",
   "execution_count": 45,
   "id": "18cbb7ef",
   "metadata": {},
   "outputs": [
    {
     "ename": "ValidationError",
     "evalue": "1 validation error for User\nid\n  Input should be a valid integer, unable to parse string as an integer [type=int_parsing, input_value='not-a-number', input_type=str]\n    For further information visit https://errors.pydantic.dev/2.11/v/int_parsing",
     "output_type": "error",
     "traceback": [
      "\u001b[0;31m---------------------------------------------------------------------------\u001b[0m",
      "\u001b[0;31mValidationError\u001b[0m                           Traceback (most recent call last)",
      "Cell \u001b[0;32mIn[45], line 2\u001b[0m\n\u001b[1;32m      1\u001b[0m data \u001b[38;5;241m=\u001b[39m {\u001b[38;5;124m\"\u001b[39m\u001b[38;5;124mid\u001b[39m\u001b[38;5;124m\"\u001b[39m: \u001b[38;5;124m\"\u001b[39m\u001b[38;5;124mnot-a-number\u001b[39m\u001b[38;5;124m\"\u001b[39m, \u001b[38;5;124m\"\u001b[39m\u001b[38;5;124mname\u001b[39m\u001b[38;5;124m\"\u001b[39m: \u001b[38;5;124m\"\u001b[39m\u001b[38;5;124mSurendra\u001b[39m\u001b[38;5;124m\"\u001b[39m, \u001b[38;5;124m\"\u001b[39m\u001b[38;5;124memail\u001b[39m\u001b[38;5;124m\"\u001b[39m: \u001b[38;5;124m\"\u001b[39m\u001b[38;5;124msurendra@example.com\u001b[39m\u001b[38;5;124m\"\u001b[39m}\n\u001b[0;32m----> 2\u001b[0m user \u001b[38;5;241m=\u001b[39m User(\u001b[38;5;241m*\u001b[39m\u001b[38;5;241m*\u001b[39mdata)\n",
      "File \u001b[0;32m/opt/anaconda3/lib/python3.11/site-packages/pydantic/main.py:253\u001b[0m, in \u001b[0;36mBaseModel.__init__\u001b[0;34m(self, **data)\u001b[0m\n\u001b[1;32m    251\u001b[0m \u001b[38;5;66;03m# `__tracebackhide__` tells pytest and some other tools to omit this function from tracebacks\u001b[39;00m\n\u001b[1;32m    252\u001b[0m __tracebackhide__ \u001b[38;5;241m=\u001b[39m \u001b[38;5;28;01mTrue\u001b[39;00m\n\u001b[0;32m--> 253\u001b[0m validated_self \u001b[38;5;241m=\u001b[39m \u001b[38;5;28mself\u001b[39m\u001b[38;5;241m.\u001b[39m__pydantic_validator__\u001b[38;5;241m.\u001b[39mvalidate_python(data, self_instance\u001b[38;5;241m=\u001b[39m\u001b[38;5;28mself\u001b[39m)\n\u001b[1;32m    254\u001b[0m \u001b[38;5;28;01mif\u001b[39;00m \u001b[38;5;28mself\u001b[39m \u001b[38;5;129;01mis\u001b[39;00m \u001b[38;5;129;01mnot\u001b[39;00m validated_self:\n\u001b[1;32m    255\u001b[0m     warnings\u001b[38;5;241m.\u001b[39mwarn(\n\u001b[1;32m    256\u001b[0m         \u001b[38;5;124m'\u001b[39m\u001b[38;5;124mA custom validator is returning a value other than `self`.\u001b[39m\u001b[38;5;130;01m\\n\u001b[39;00m\u001b[38;5;124m'\u001b[39m\n\u001b[1;32m    257\u001b[0m         \u001b[38;5;124m\"\u001b[39m\u001b[38;5;124mReturning anything other than `self` from a top level model validator isn\u001b[39m\u001b[38;5;124m'\u001b[39m\u001b[38;5;124mt supported when validating via `__init__`.\u001b[39m\u001b[38;5;130;01m\\n\u001b[39;00m\u001b[38;5;124m\"\u001b[39m\n\u001b[1;32m    258\u001b[0m         \u001b[38;5;124m'\u001b[39m\u001b[38;5;124mSee the `model_validator` docs (https://docs.pydantic.dev/latest/concepts/validators/#model-validators) for more details.\u001b[39m\u001b[38;5;124m'\u001b[39m,\n\u001b[1;32m    259\u001b[0m         stacklevel\u001b[38;5;241m=\u001b[39m\u001b[38;5;241m2\u001b[39m,\n\u001b[1;32m    260\u001b[0m     )\n",
      "\u001b[0;31mValidationError\u001b[0m: 1 validation error for User\nid\n  Input should be a valid integer, unable to parse string as an integer [type=int_parsing, input_value='not-a-number', input_type=str]\n    For further information visit https://errors.pydantic.dev/2.11/v/int_parsing"
     ]
    }
   ],
   "source": [
    "data = {\"id\": \"not-a-number\", \"name\": \"Surendra\", \"email\": \"surendra@example.com\"}\n",
    "user = User(**data)"
   ]
  },
  {
   "cell_type": "markdown",
   "id": "cded78c5",
   "metadata": {},
   "source": [
    "Automatic Type Conversion"
   ]
  },
  {
   "cell_type": "code",
   "execution_count": 46,
   "id": "50856756",
   "metadata": {},
   "outputs": [
    {
     "name": "stdout",
     "output_type": "stream",
     "text": [
      "5\n"
     ]
    }
   ],
   "source": [
    "data = {\"id\": \"5\", \"name\": \"Dev\", \"email\": \"dev@example.com\"}\n",
    "user = User(**data)\n",
    "print(user.id)  # 5 as int, not str"
   ]
  },
  {
   "cell_type": "code",
   "execution_count": 17,
   "id": "01547f77",
   "metadata": {},
   "outputs": [
    {
     "name": "stdout",
     "output_type": "stream",
     "text": [
      "Pune\n"
     ]
    }
   ],
   "source": [
    "#Nested Models\n",
    "class Address(BaseModel):\n",
    "    city: str\n",
    "    pincode: int\n",
    "\n",
    "class User(BaseModel):\n",
    "    name: str\n",
    "    address: Address\n",
    "\n",
    "data = {\n",
    "    \"name\": \"Aayush\",\n",
    "    \"address\": {\n",
    "        \"city\": \"Pune\",\n",
    "        \"pincode\": 411001\n",
    "    }\n",
    "}\n",
    "\n",
    "user = User(**data)\n",
    "print(user.address.city)"
   ]
  },
  {
   "cell_type": "markdown",
   "id": "682e8301",
   "metadata": {},
   "source": [
    "What is Pydantic?\n",
    "Pydantic is the most widely used Python library for data validation and data parsing, built using Python type hints.\n",
    "It helps you:\n",
    "•\tEnsure incoming data is valid and typed\n",
    "•\tAutomatically convert strings to proper types\n",
    "•\tWrite cleaner and safer code"
   ]
  },
  {
   "cell_type": "markdown",
   "id": "ffc3afc6",
   "metadata": {},
   "source": [
    "Why Use Pydantic?\n",
    "\n",
    "Feature\t                Benefit\n",
    "\n",
    "🔍 Type hint driven:\tDefine schemas using just Python types\n",
    "\n",
    "⚡ Fast & efficient:\tCore logic written in Rust, super-fast parsing\n",
    "\n",
    "🛡️ Validates automatically:\tEnsures only correct data enters your system\n",
    "\n",
    "🌐 JSON Schema support:\tConverts models into OpenAPI docs or other tools like Swagger\n",
    "\n",
    "🧰 Ecosystem:\tUsed by FastAPI, SQLModel, LangChain, HuggingFace, and 8,000+ packages\n",
    "\n",
    "📊 Widely adopted:\t360M+ downloads/month, used by FAANG & top NASDAQ companies"
   ]
  },
  {
   "cell_type": "code",
   "execution_count": null,
   "id": "6ac74f5a",
   "metadata": {},
   "outputs": [],
   "source": [
    "#Install Pydantic\n",
    "pip install pydantic"
   ]
  },
  {
   "cell_type": "code",
   "execution_count": null,
   "id": "e5ef83aa",
   "metadata": {},
   "outputs": [
    {
     "name": "stdout",
     "output_type": "stream",
     "text": [
      "{'id': 123,\n",
      " 'name': 'Surendra Panpaliya',\n",
      " 'signup_ts': datetime.datetime(2019, 6, 1, 12, 22),\n",
      " 'tastes': {'cabbage': 1, 'cheese': 7, 'wine': 9}}\n"
     ]
    }
   ],
   "source": [
    "#Basic Example – Successful Validation\n",
    "\n",
    "from datetime import datetime\n",
    "from pydantic import BaseModel, PositiveInt\n",
    "from pprint import pprint  # Prettyprint\n",
    "\n",
    "class User(BaseModel):\n",
    "    id: int\n",
    "    name: str = 'Surendra Panpaliya'\n",
    "    signup_ts: datetime | None\n",
    "    tastes: dict[str, PositiveInt]\n",
    "\n",
    "external_data = {\n",
    "    'id': 123,\n",
    "    'signup_ts': '2025-06-01 12:22',\n",
    "    'tastes': {\n",
    "        'wine': 9,\n",
    "        'cheese': 7,\n",
    "        'cabbage': '1'  # will be auto-converted to int\n",
    "    }\n",
    "}\n",
    "\n",
    "user = User(**external_data)\n",
    "pprint(user.model_dump())\n"
   ]
  },
  {
   "cell_type": "code",
   "execution_count": 20,
   "id": "76ba9519",
   "metadata": {},
   "outputs": [
    {
     "data": {
      "text/plain": [
       "{'id': 123,\n",
       " 'name': 'Surendra Panpaliya',\n",
       " 'signup_ts': datetime.datetime(2019, 6, 1, 12, 22),\n",
       " 'tastes': {'wine': 9, 'cheese': 7, 'cabbage': 1}}"
      ]
     },
     "execution_count": 20,
     "metadata": {},
     "output_type": "execute_result"
    }
   ],
   "source": [
    "user.model_dump()"
   ]
  },
  {
   "cell_type": "code",
   "execution_count": 23,
   "id": "afc57e88",
   "metadata": {},
   "outputs": [
    {
     "name": "stdout",
     "output_type": "stream",
     "text": [
      "{'id': 123,\n",
      " 'name': 'Surendra Panpaliya',\n",
      " 'signup_ts': datetime.datetime(2019, 6, 1, 12, 22),\n",
      " 'tastes': {'cabbage': 1, 'cheese': 7, 'wine': 9}}\n"
     ]
    }
   ],
   "source": [
    "import pprint\n",
    "from pprint import pprint\n",
    "\n",
    "pprint(user.model_dump())\n"
   ]
  },
  {
   "cell_type": "code",
   "execution_count": null,
   "id": "f9f69d20",
   "metadata": {},
   "outputs": [
    {
     "name": "stdout",
     "output_type": "stream",
     "text": [
      "[{'input': 'not an int',\n",
      "  'loc': ('id',),\n",
      "  'msg': 'Input should be a valid integer, unable to parse string as an '\n",
      "         'integer',\n",
      "  'type': 'int_parsing',\n",
      "  'url': 'https://errors.pydantic.dev/2.11/v/int_parsing'},\n",
      " {'input': {'id': 'not an int', 'tastes': {}},\n",
      "  'loc': ('signup_ts',),\n",
      "  'msg': 'Field required',\n",
      "  'type': 'missing',\n",
      "  'url': 'https://errors.pydantic.dev/2.11/v/missing'}]\n"
     ]
    }
   ],
   "source": [
    "#❌ Validation Error Example\n",
    "\n",
    "from pydantic import BaseModel, PositiveInt, ValidationError\n",
    "from datetime import datetime\n",
    "from pprint import pprint\n",
    "\n",
    "class User(BaseModel):\n",
    "    id: int\n",
    "    signup_ts: datetime | None\n",
    "    tastes: dict[str, PositiveInt]\n",
    "\n",
    "bad_data = {\n",
    "    'id': 'not an int',\n",
    "    'tastes': {}  # missing required positive int values\n",
    "}\n",
    "\n",
    "try:\n",
    "    user = User(**bad_data)\n",
    "except ValidationError as e:\n",
    "    pprint(e.errors())"
   ]
  },
  {
   "cell_type": "markdown",
   "id": "01df2d52",
   "metadata": {},
   "source": [
    "Goal: Build a simple User API\n",
    "Endpoint: POST /user\n",
    "Input: JSON body with name, age, and email\n",
    "Output: Confirmation message with user details"
   ]
  },
  {
   "cell_type": "code",
   "execution_count": null,
   "id": "c5e476a0",
   "metadata": {},
   "outputs": [
    {
     "name": "stdout",
     "output_type": "stream",
     "text": [
      "Writing fastapi_pydantic.py\n"
     ]
    }
   ],
   "source": [
    "%%writefile fastapi_pydantic.py\n",
    "\n",
    "from fastapi import FastAPI\n",
    "from pydantic import BaseModel, EmailStr\n",
    "from typing import List\n",
    "\n",
    "# Step 1: Create a FastAPI app instance\n",
    "app = FastAPI()\n",
    "\n",
    "# Step 2: Define a Pydantic model to validate incoming data\n",
    "class User(BaseModel):\n",
    "    name: str\n",
    "    age: int\n",
    "    email: EmailStr\n",
    "\n",
    "# Step 3: Create a POST endpoint that accepts User data\n",
    "@app.post(\"/user\")\n",
    "def create_user(user: User):\n",
    "    return {\n",
    "        \"message\": f\"User {user.name} added successfully!\",\n",
    "        \"user_details\": user\n",
    "    }"
   ]
  },
  {
   "cell_type": "code",
   "execution_count": 40,
   "id": "3c3ac167",
   "metadata": {},
   "outputs": [
    {
     "name": "stdout",
     "output_type": "stream",
     "text": [
      "Overwriting bankapp.py\n"
     ]
    }
   ],
   "source": [
    "%%writefile bankapp.py\n",
    "\n",
    "from fastapi import FastAPI, HTTPException\n",
    "from pydantic import BaseModel, Field, EmailStr\n",
    "from typing import Dict, List\n",
    "\n",
    "app = FastAPI(title=\"Simple Bank API\")\n",
    "\n",
    "# In-memory database\n",
    "bank_accounts: Dict[int, dict] = {}\n",
    "\n",
    "# Pydantic model for account\n",
    "class BankAccount(BaseModel):\n",
    "    id: int\n",
    "    name: str\n",
    "    email: EmailStr\n",
    "    balance: float = Field(..., ge=0)\n",
    "\n",
    "class TransferRequest(BaseModel):\n",
    "    from_id: int\n",
    "    to_id: int\n",
    "    amount: float = Field(..., gt=0)\n",
    "\n",
    "\n",
    "# 1. Create Account\n",
    "@app.post(\"/accounts/\", response_model=BankAccount)\n",
    "def create_account(account: BankAccount):\n",
    "    if account.id in bank_accounts:\n",
    "        raise HTTPException(status_code=400, detail=\"Account already exists\")\n",
    "    bank_accounts[account.id] = account.model_dump()\n",
    "    return account\n",
    "\n",
    "#2. Get Account Details\n",
    "\n",
    "@app.get(\"/accounts/{account_id}\", response_model=BankAccount)\n",
    "def get_account(account_id: int):\n",
    "    account = bank_accounts.get(account_id)\n",
    "    if not account:\n",
    "        raise HTTPException(status_code=404, detail=\"Account not found\")\n",
    "    return account\n",
    "\n",
    "# 3. Transfer Funds\n",
    "@app.post(\"/transfer/\")\n",
    "def transfer_funds(transfer: TransferRequest):\n",
    "    sender = bank_accounts.get(transfer.from_id)\n",
    "    receiver = bank_accounts.get(transfer.to_id)\n",
    "\n",
    "    if not sender or not receiver:\n",
    "        raise HTTPException(status_code=404, detail=\"Sender or receiver not found\")\n",
    "\n",
    "    if sender[\"balance\"] < transfer.amount:\n",
    "        raise HTTPException(status_code=400, detail=\"Insufficient balance\")\n",
    "\n",
    "    sender[\"balance\"] -= transfer.amount\n",
    "    receiver[\"balance\"] += transfer.amount\n",
    "    return {\n",
    "        \"message\": f\"Transferred ₹{transfer.amount} from {sender['name']} to {receiver['name']}\",\n",
    "        \"from_balance\": sender[\"balance\"],\n",
    "        \"to_balance\": receiver[\"balance\"]\n",
    "    }\n",
    "\n",
    "@app.get(\"/\")\n",
    "def read_root():\n",
    "    return {\"message\": \"Welcome to the Simple Bank API!\"}\n",
    "\n",
    "#Step 2: Add GET /accounts/ to Show All Accounts\n",
    "\n",
    "@app.get(\"/accounts/\", response_model=List[BankAccount])\n",
    "def get_all_accounts():\n",
    "    return list(bank_accounts.values())\n"
   ]
  },
  {
   "cell_type": "code",
   "execution_count": null,
   "id": "27a8c0f5",
   "metadata": {},
   "outputs": [],
   "source": [
    "# uvicorn bankapp:app --reload"
   ]
  },
  {
   "cell_type": "markdown",
   "id": "95097276",
   "metadata": {},
   "source": [
    "What is Dependency Injection (DI)?\n",
    "\n",
    "Dependency Injection (DI) is a design pattern used to achieve Inversion of Control (IoC) by injecting dependent objects (services) into a class instead of creating them inside the class.\n",
    "\n",
    "Why use DI?\n",
    "•\tDecouples business logic from instantiation logic\n",
    "•\tIncreases testability (easy to mock)\n",
    "•\tPromotes maintainability and scalability"
   ]
  },
  {
   "cell_type": "markdown",
   "id": "65021438",
   "metadata": {},
   "source": [
    "Dependency:\tA class or object your code depends on\n",
    "Injection:\tSupplying that dependency externally\n",
    "IoC Container:\tFramework that manages object lifecycle and dependencies\n"
   ]
  },
  {
   "cell_type": "markdown",
   "id": "6f1efa11",
   "metadata": {},
   "source": [
    " Dependency Injection in FastAPI (Python)\n",
    "FastAPI uses Depends from fastapi to inject dependencies."
   ]
  },
  {
   "cell_type": "code",
   "execution_count": 41,
   "id": "76bac8f8",
   "metadata": {},
   "outputs": [
    {
     "name": "stdout",
     "output_type": "stream",
     "text": [
      "Writing fastdi.py\n"
     ]
    }
   ],
   "source": [
    "%%writefile fastdi.py\n",
    "\n",
    "from fastapi import FastAPI, Depends\n",
    "\n",
    "app = FastAPI()\n",
    "\n",
    "# Dependency function\n",
    "def get_db():\n",
    "    return {\"db\": \"connected\"}\n",
    "\n",
    "@app.get(\"/items/\")\n",
    "def read_items(db=Depends(get_db)):\n",
    "    return {\"message\": \"Using\", \"db\": db}"
   ]
  },
  {
   "cell_type": "markdown",
   "id": "b345d255",
   "metadata": {},
   "source": [
    "\n",
    "Why Dependency Injection (DI)?\n",
    "\n",
    "In FastAPI, Depends() is used for dependency injection, which means:\n",
    "    •   Centralizing shared logic (e.g., database calls, authentication)\n",
    "    •   Reducing code duplication (DRY principle)\n",
    "    •   Making your code more modular, reusable, testable, and maintainable\n",
    "\n",
    "⸻\n",
    "\n",
    "What We’ll Build:\n",
    "    •   POST /accounts/ → Create account\n",
    "    •   GET /accounts/{id} → Get account (using dependency)\n",
    "    •   POST /transfer/ → Transfer money (using dependency)\n",
    "\n",
    "⸻\n",
    "\n",
    "🔧 Step 1: Install Dependencies\n",
    "\n",
    "pip install fastapi uvicorn pydantic email-validator"
   ]
  },
  {
   "cell_type": "markdown",
   "id": "3cfbd1c6",
   "metadata": {},
   "source": [
    "Step 2: Create main.py\n",
    "\n",
    "Why?\n",
    "\n",
    "    •   FastAPI → web framework\n",
    "    •   Depends → FastAPI’s way of injecting dependencies\n",
    "    •   HTTPException → for error handling\n",
    "    •   BaseModel → for request validation (Pydantic)"
   ]
  },
  {
   "cell_type": "code",
   "execution_count": null,
   "id": "de80e595",
   "metadata": {},
   "outputs": [],
   "source": [
    "#Import required modules\n",
    "\n",
    "from fastapi import FastAPI, HTTPException, Depends\n",
    "from pydantic import BaseModel, EmailStr, Field\n",
    "from typing import Dict, List"
   ]
  },
  {
   "cell_type": "markdown",
   "id": "f046fbfd",
   "metadata": {},
   "source": [
    "Step 3: Create App and In-Memory Database\n",
    "\n",
    "We’re using a Python dictionary to simulate a database for simplicity."
   ]
  },
  {
   "cell_type": "code",
   "execution_count": null,
   "id": "209e0a20",
   "metadata": {},
   "outputs": [],
   "source": [
    "app = FastAPI(title=\"Simple Bank App with Dependency Injection\")\n",
    "\n",
    "# In-memory \"database\"\n",
    "accounts: Dict[int, dict] = {}"
   ]
  },
  {
   "cell_type": "markdown",
   "id": "b6446312",
   "metadata": {},
   "source": [
    "🧱 Step 4: Create Pydantic Models\n",
    "\n",
    "✅ Why?\n",
    "\n",
    "    •   Enforces validation rules:\n",
    "    •   EmailStr ensures valid emails\n",
    "    •   balance >= 0, amount > 0"
   ]
  },
  {
   "cell_type": "code",
   "execution_count": null,
   "id": "82c1d659",
   "metadata": {},
   "outputs": [],
   "source": [
    "class BankAccount(BaseModel):\n",
    "    id: int\n",
    "    name: str\n",
    "    email: EmailStr\n",
    "    balance: float = Field(..., ge=0)\n",
    "\n",
    "class TransferRequest(BaseModel):\n",
    "    from_id: int\n",
    "    to_id: int\n",
    "    amount: float = Field(..., gt=0)"
   ]
  },
  {
   "cell_type": "markdown",
   "id": "c5b838f7",
   "metadata": {},
   "source": [
    "🧩 Step 5: Create a Dependency Function\n",
    "\n",
    "\n",
    "✅ Why?\n",
    "This is reusable logic for fetching accounts — we will inject it wherever we need to access an account by ID."
   ]
  },
  {
   "cell_type": "code",
   "execution_count": null,
   "id": "61caed90",
   "metadata": {},
   "outputs": [],
   "source": [
    "def get_account(account_id: int):\n",
    "    account = accounts.get(account_id)\n",
    "    if not account:\n",
    "        raise HTTPException(status_code=404, detail=f\"Account {account_id} not found\")\n",
    "    return account"
   ]
  },
  {
   "cell_type": "markdown",
   "id": "cfd80357",
   "metadata": {},
   "source": [
    "🔧 Step 6: Create Endpoints Using Dependencies\n",
    "\n",
    "🎯 1. Create Account (No dependency)\n",
    "\n",
    "✅ Why?\n",
    "Directly saves validated user input into our in-memory “DB”."
   ]
  },
  {
   "cell_type": "code",
   "execution_count": null,
   "id": "d518fa72",
   "metadata": {},
   "outputs": [],
   "source": [
    "@app.post(\"/accounts/\", response_model=BankAccount)\n",
    "def create_account(account: BankAccount):\n",
    "    if account.id in accounts:\n",
    "        raise HTTPException(status_code=400, detail=\"Account already exists\")\n",
    "    accounts[account.id] = account.model_dump()\n",
    "    return account"
   ]
  },
  {
   "cell_type": "markdown",
   "id": "fe4e9963",
   "metadata": {},
   "source": [
    "🎯 2. Get Account (With dependency)\n",
    "\n",
    "@app.get(\"/accounts/{account_id}\", response_model=BankAccount)\n",
    "def read_account(account: dict = Depends(get_account)):\n",
    "    return account\n",
    "\n",
    "✅ Why?\n",
    "Using Depends(get_account):\n",
    "\n",
    "    •   Automatically extracts and validates account_id from the URL\n",
    "    •   Calls the get_account() function before endpoint logic\n",
    "    •   Raises a 404 if the account doesn’t exist\n",
    "    •   Makes code shorter, cleaner, and more maintainable\n"
   ]
  },
  {
   "cell_type": "markdown",
   "id": "e698d2ec",
   "metadata": {},
   "source": [
    "🎯 3. Transfer Funds (Reuses dependency)\n",
    "\n",
    "@app.post(\"/transfer/\")\n",
    "def transfer(request: TransferRequest):\n",
    "    sender = get_account(request.from_id)\n",
    "    receiver = get_account(request.to_id)\n",
    "\n",
    "    if sender[\"balance\"] < request.amount:\n",
    "        raise HTTPException(status_code=400, detail=\"Insufficient balance\")\n",
    "\n",
    "    sender[\"balance\"] -= request.amount\n",
    "    receiver[\"balance\"] += request.amount\n",
    "\n",
    "    return {\n",
    "        \"message\": f\"₹{request.amount} transferred from {sender['name']} to {receiver['name']}\",\n",
    "        \"sender_balance\": sender[\"balance\"],\n",
    "        \"receiver_balance\": receiver[\"balance\"]\n",
    "    }\n",
    "\n",
    "✅ Why?\n",
    "\n",
    "We reuse the same logic to fetch both accounts.\n",
    "\n",
    "    •   Instead of repeating if account not in accounts: ... logic\n",
    "    •   We simply call get_account() twice\n",
    "\n",
    "⸻\n"
   ]
  },
  {
   "cell_type": "markdown",
   "id": "46ec5df2",
   "metadata": {},
   "source": [
    "🌐 Step 7: Add Welcome & All Accounts Endpoints\n",
    "\n",
    "@app.get(\"/\")\n",
    "def home():\n",
    "    return {\"message\": \"Welcome to the Bank API with Dependency Injection!\"}\n",
    "\n",
    "@app.get(\"/accounts/\", response_model=List[BankAccount])\n",
    "def list_accounts():\n",
    "    return list(accounts.values())\n",
    "\n",
    "✅ Makes the app browser/tester friendly\n"
   ]
  },
  {
   "cell_type": "markdown",
   "id": "4c912831",
   "metadata": {},
   "source": [
    "🚀 Step 8: Run the App\n",
    "\n",
    "uvicorn main:app --reload --port 8080"
   ]
  },
  {
   "cell_type": "markdown",
   "id": "6ce41abd",
   "metadata": {},
   "source": []
  }
 ],
 "metadata": {
  "kernelspec": {
   "display_name": "base",
   "language": "python",
   "name": "python3"
  },
  "language_info": {
   "codemirror_mode": {
    "name": "ipython",
    "version": 3
   },
   "file_extension": ".py",
   "mimetype": "text/x-python",
   "name": "python",
   "nbconvert_exporter": "python",
   "pygments_lexer": "ipython3",
   "version": "3.11.7"
  }
 },
 "nbformat": 4,
 "nbformat_minor": 5
}
