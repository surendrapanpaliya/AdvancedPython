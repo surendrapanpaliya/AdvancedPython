{
 "cells": [
  {
   "cell_type": "markdown",
   "id": "696d73f2",
   "metadata": {},
   "source": [
    "What is a Decorator?\n",
    "A decorator is a function that takes another function as input, adds some functionality, and returns a new function without modifying the original one.\n",
    "They are widely used in Python for:\n",
    "•\tCross-cutting concerns like logging, validation, caching\n",
    "•\tReusability and cleaner code"
   ]
  },
  {
   "cell_type": "markdown",
   "id": "b2f5a834",
   "metadata": {},
   "source": [
    "1. Logging Decorator\n",
    "Automatically log the function name and arguments whenever the function is called."
   ]
  },
  {
   "cell_type": "code",
   "execution_count": null,
   "id": "7c7eae5b",
   "metadata": {},
   "outputs": [
    {
     "name": "stdout",
     "output_type": "stream",
     "text": [
      "[LOG] Calling 'helloworld' with args: (), kwargs: {}\n",
      "[LOG] 'helloworld' returned: ('Hello Decorator', {})\n",
      "[LOG] Calling 'add' with args: (5, 10), kwargs: {'c': 10, 'd': 20}\n",
      "[LOG] 'add' returned: (45, {'c': 10, 'd': 20})\n",
      "[LOG] Calling 'mult' with args: (5, 6), kwargs: {'d': 40}\n",
      "[LOG] 'mult' returned: (12000, {'d': 40})\n"
     ]
    },
    {
     "data": {
      "text/plain": [
       "12000"
      ]
     },
     "execution_count": 17,
     "metadata": {},
     "output_type": "execute_result"
    }
   ],
   "source": [
    "def log(func):\n",
    "    def wrapper(*args, **kwargs):\n",
    "        print(f\"[LOG] Calling '{func.__name__}' with args: {args}, kwargs: {kwargs}\")\n",
    "        result = func(*args, **kwargs)\n",
    "        print(f\"[LOG] '{func.__name__}' returned: {result, kwargs}\")\n",
    "        return result\n",
    "    return wrapper\n",
    "\n",
    "\n",
    "@log\n",
    "def helloworld():\n",
    "    return 'Hello Decorator'\n",
    "\n",
    "helloworld()\n",
    "\n",
    "@log\n",
    "def add(a, b, c=10, d=20):\n",
    "    return a + b + c + d\n",
    "\n",
    "add(5, 10, c=10, d=20)\n",
    "\n",
    "\n",
    "@log\n",
    "def mult(a,b,c=10,d=20):\n",
    "    return a * b * c * d\n",
    "\n",
    "mult(5,6)\n"
   ]
  },
  {
   "cell_type": "markdown",
   "id": "d61e72eb",
   "metadata": {},
   "source": [
    " 2. Validation Decorator\n",
    "\n",
    "🔹 Goal: Validate input arguments before running the actual function.\n",
    "🔹 Example: Ensure inputs are positive numbers"
   ]
  },
  {
   "cell_type": "code",
   "execution_count": null,
   "id": "9af5ca40",
   "metadata": {},
   "outputs": [],
   "source": []
  },
  {
   "cell_type": "code",
   "execution_count": null,
   "id": "2e6cfdea",
   "metadata": {},
   "outputs": [
    {
     "ename": "ValueError",
     "evalue": "All inputs must be non-negative.",
     "output_type": "error",
     "traceback": [
      "\u001b[0;31m---------------------------------------------------------------------------\u001b[0m",
      "\u001b[0;31mValueError\u001b[0m                                Traceback (most recent call last)",
      "Cell \u001b[0;32mIn[21], line 13\u001b[0m\n\u001b[1;32m      9\u001b[0m \u001b[38;5;129m@validate_positive\u001b[39m\n\u001b[1;32m     10\u001b[0m \u001b[38;5;28;01mdef\u001b[39;00m \u001b[38;5;21msquare_root\u001b[39m(x):\n\u001b[1;32m     11\u001b[0m     \u001b[38;5;28;01mreturn\u001b[39;00m x \u001b[38;5;241m*\u001b[39m\u001b[38;5;241m*\u001b[39m \u001b[38;5;241m0.5\u001b[39m\n\u001b[0;32m---> 13\u001b[0m \u001b[38;5;28mprint\u001b[39m(square_root(\u001b[38;5;241m-\u001b[39m\u001b[38;5;241m9\u001b[39m))   \u001b[38;5;66;03m# ✅ 3.0\u001b[39;00m\n\u001b[1;32m     14\u001b[0m \u001b[38;5;28mprint\u001b[39m(square_root(\u001b[38;5;241m5\u001b[39m))\n",
      "Cell \u001b[0;32mIn[21], line 5\u001b[0m, in \u001b[0;36mvalidate_positive.<locals>.wrapper\u001b[0;34m(*args, **kwargs)\u001b[0m\n\u001b[1;32m      2\u001b[0m \u001b[38;5;28;01mdef\u001b[39;00m \u001b[38;5;21mwrapper\u001b[39m(\u001b[38;5;241m*\u001b[39margs, \u001b[38;5;241m*\u001b[39m\u001b[38;5;241m*\u001b[39mkwargs):\n\u001b[1;32m      3\u001b[0m     \u001b[38;5;66;03m# Tuple Comprehension to validate input values\u001b[39;00m\n\u001b[1;32m      4\u001b[0m     \u001b[38;5;28;01mif\u001b[39;00m \u001b[38;5;28many\u001b[39m(x \u001b[38;5;241m<\u001b[39m \u001b[38;5;241m0\u001b[39m \u001b[38;5;28;01mfor\u001b[39;00m x \u001b[38;5;129;01min\u001b[39;00m args \u001b[38;5;28;01mif\u001b[39;00m \u001b[38;5;28misinstance\u001b[39m(x, (\u001b[38;5;28mint\u001b[39m, \u001b[38;5;28mfloat\u001b[39m))):\n\u001b[0;32m----> 5\u001b[0m         \u001b[38;5;28;01mraise\u001b[39;00m \u001b[38;5;167;01mValueError\u001b[39;00m(\u001b[38;5;124m\"\u001b[39m\u001b[38;5;124mAll inputs must be non-negative.\u001b[39m\u001b[38;5;124m\"\u001b[39m)\n\u001b[1;32m      6\u001b[0m     \u001b[38;5;28;01mreturn\u001b[39;00m func(\u001b[38;5;241m*\u001b[39margs, \u001b[38;5;241m*\u001b[39m\u001b[38;5;241m*\u001b[39mkwargs)\n",
      "\u001b[0;31mValueError\u001b[0m: All inputs must be non-negative."
     ]
    }
   ],
   "source": [
    "def validate_positive(func):\n",
    "    def wrapper(*args, **kwargs):\n",
    "        # Tuple Comprehension to validate input values\n",
    "        if any(x < 0 for x in args if isinstance(x, (int, float))):\n",
    "            raise ValueError(\"All inputs must be non-negative.\")\n",
    "        return func(*args, **kwargs)\n",
    "    return wrapper\n",
    "\n",
    "@validate_positive\n",
    "def square_root(x):\n",
    "    return x ** 0.5\n",
    "\n",
    "print(square_root(3.0))   # ✅ 3.0\n",
    "print(square_root(-5)) # ❌ Raises ValueError"
   ]
  },
  {
   "cell_type": "code",
   "execution_count": null,
   "id": "1c880085",
   "metadata": {},
   "outputs": [
    {
     "name": "stdout",
     "output_type": "stream",
     "text": [
      "2.8284271247461903\n"
     ]
    }
   ],
   "source": [
    "print(square_root(8.0))"
   ]
  },
  {
   "cell_type": "markdown",
   "id": "1a1e7f99",
   "metadata": {},
   "source": [
    "3. Chaining Multiple Decorators\n",
    "\n",
    "You can stack multiple decorators to apply more than one behavior.\n",
    "\n",
    "🔹 Example: Combine Logging + Validation"
   ]
  },
  {
   "cell_type": "code",
   "execution_count": null,
   "id": "875f090b",
   "metadata": {},
   "outputs": [],
   "source": [
    "def log(func):\n",
    "    def wrapper(*args, **kwargs):\n",
    "        print(f\"[LOG] Calling {func.__name__} with {args}\")\n",
    "        return func(*args, **kwargs)\n",
    "    return wrapper\n",
    "\n",
    "def validate_positive(func):\n",
    "    def wrapper(*args, **kwargs):\n",
    "        if any(x < 0 for x in args):\n",
    "            raise ValueError(\"Arguments must be positive\")\n",
    "        return func(*args, **kwargs)\n",
    "    return wrapper\n",
    "\n",
    "@log\n",
    "@validate_positive\n",
    "def multiply(a, b):\n",
    "    return a * b\n",
    "\n",
    "multiply(3, 4)  # Logs + Validates\n",
    "# multiply(-3, 4) # Raises ValueError"
   ]
  },
  {
   "cell_type": "markdown",
   "id": "0c6fb139",
   "metadata": {},
   "source": [
    "Order Matters:\n",
    "Decorators are applied bottom to top, \n",
    "i.e., @validate_positive runs before @log."
   ]
  },
  {
   "cell_type": "markdown",
   "id": "b495432b",
   "metadata": {},
   "source": [
    "Assignment1\n",
    "\n",
    "Create Bank Application that uses Python decorators for:\n",
    "\n",
    "1.\t✅ Logging\n",
    "2.\t🚫 Validation\n",
    "3.\t🔗 Chaining multiple decorators\n",
    " \n",
    "🏦 Scenario:\n",
    "A simple BankAccount class with methods like deposit() and withdraw().\n",
    "\n",
    "Apply decorators to:\n",
    "•\tLog each transaction\n",
    "•\tValidate input (e.g., positive amounts)\n",
    "•\tChain both decorators"
   ]
  },
  {
   "cell_type": "code",
   "execution_count": null,
   "id": "885bcad6",
   "metadata": {},
   "outputs": [],
   "source": [
    "# 1. Logging Decorator\n",
    "def log_transaction(func):\n",
    "    def wrapper(self, amount):\n",
    "        print(f\"[LOG] Calling {func.__name__} with amount ₹{amount}\")\n",
    "        return func(self, amount)\n",
    "    return wrapper\n",
    "\n",
    "# 2. Validation Decorator\n",
    "def validate_amount(func):\n",
    "    def wrapper(self, amount):\n",
    "        if amount <= 0:\n",
    "            print(\"[ERROR] Amount must be positive.\")\n",
    "            return\n",
    "        return func(self, amount)\n",
    "    return wrapper"
   ]
  },
  {
   "cell_type": "code",
   "execution_count": null,
   "id": "a0a2e7b3",
   "metadata": {},
   "outputs": [],
   "source": [
    "# Bank Account Class\n",
    "\n",
    "class BankAccount:\n",
    "    def __init__(self, name, balance=0):\n",
    "        self.name = name\n",
    "        self.balance = balance\n",
    "\n",
    "    @log_transaction\n",
    "    @validate_amount\n",
    "    def deposit(self, amount):\n",
    "        self.balance += amount\n",
    "        print(f\"₹{amount} deposited. New balance: ₹{self.balance}\")\n",
    "\n",
    "    @log_transaction\n",
    "    @validate_amount\n",
    "    def withdraw(self, amount):\n",
    "        if amount > self.balance:\n",
    "            print(\"[ERROR] Insufficient balance.\")\n",
    "        else:\n",
    "            self.balance -= amount\n",
    "            print(f\"₹{amount} withdrawn. New balance: ₹{self.balance}\")"
   ]
  },
  {
   "cell_type": "code",
   "execution_count": null,
   "id": "4f6f4348",
   "metadata": {},
   "outputs": [],
   "source": [
    "# Create a bank account\n",
    "acc = BankAccount(\"Dev\", 1000)\n",
    "\n",
    "# Valid transactions\n",
    "acc.deposit(500)\n",
    "acc.withdraw(300)\n",
    "\n",
    "# Invalid transactions\n",
    "acc.deposit(-200)\n",
    "acc.withdraw(1500)\n"
   ]
  },
  {
   "cell_type": "markdown",
   "id": "33c5123f",
   "metadata": {},
   "source": [
    "Context Managers:\n",
    "✅ with statement\n",
    "✅ __enter__ and __exit__ methods\n",
    "✅ Custom context manager examples"
   ]
  },
  {
   "cell_type": "markdown",
   "id": "07839bb2",
   "metadata": {},
   "source": [
    "What is a Context Manager?\n",
    "\n",
    "Construct that sets up a resource, \n",
    "does something with it, and \n",
    "then tears it down — automatically.\n",
    "\n",
    "Used with the with statement \n",
    "To manage resources like files, database connections, locks\n",
    "Ensuring proper cleanup, even if an error occurs.\n"
   ]
  },
  {
   "cell_type": "code",
   "execution_count": null,
   "id": "62ebfb5c",
   "metadata": {},
   "outputs": [
    {
     "name": "stdout",
     "output_type": "stream",
     "text": [
      "\n",
      " This is appended line\n"
     ]
    }
   ],
   "source": [
    "filepath = \"/Users/surendra/advance_python/testfile.txt\"\n",
    "\n",
    "file1 = open(filepath,'a')\n",
    "#dir(file1)\n",
    "file1.write(\"\\n This is appended line\")\n",
    "file1.close()\n",
    "\n",
    "file1 = open(filepath)\n",
    "print(file1.read())\n",
    "file1.close()"
   ]
  },
  {
   "cell_type": "markdown",
   "id": "f2cded15",
   "metadata": {},
   "source": [
    "✅ 1. The with Statement"
   ]
  },
  {
   "cell_type": "code",
   "execution_count": null,
   "id": "55adc974",
   "metadata": {},
   "outputs": [],
   "source": [
    "#File Handling\n",
    "with open(\"demo.txt\", \"w\") as file:\n",
    "    file.write(\"Hello, world!\")"
   ]
  },
  {
   "cell_type": "markdown",
   "id": "d6e17ba4",
   "metadata": {},
   "source": [
    "•\tIt opens the file\n",
    "•\tAssigns it to file\n",
    "•\tWrites data\n",
    "•\tThen automatically closes the file when the block exits, even if an error occurs"
   ]
  },
  {
   "cell_type": "markdown",
   "id": "2a4b05a4",
   "metadata": {},
   "source": [
    "✅ 2. Behind the Scenes: __enter__ and __exit__\n",
    "\n",
    "Any object used in a with statement must implement:\n",
    "\n",
    "Method\tPurpose\n",
    "__enter__(self)\tCode to run at the start (setup)\n",
    "__exit__(self, exc_type, exc_val, exc_tb)\tCode to run at the end (cleanup)"
   ]
  },
  {
   "cell_type": "code",
   "execution_count": null,
   "id": "1b5104f8",
   "metadata": {},
   "outputs": [
    {
     "name": "stdout",
     "output_type": "stream",
     "text": [
      " Using resource.\n"
     ]
    }
   ],
   "source": [
    "#Custom Context Manager Example\n",
    "\n",
    "class MyResource:\n",
    "    def __enter__(self):\n",
    "        print(\" Acquiring resource...\")\n",
    "        return self\n",
    "\n",
    "    def __exit__(self, exc_type, exc_val, exc_tb):\n",
    "        print(\" Releasing resource...\")\n",
    "        if exc_type:\n",
    "            print(f\" Error occurred: {exc_val}\")\n",
    "        return False  # Propagate exception if any\n",
    "\n",
    "    def action(self):\n",
    "        print(\" Using resource.\")\n",
    "\n",
    "\n",
    "# Usage\n",
    "with MyResource() as res:\n",
    "res.action()\n"
   ]
  },
  {
   "cell_type": "markdown",
   "id": "a300d98a",
   "metadata": {},
   "source": [
    "✅ Using contextlib (Shorter Way)\n",
    "\n",
    "contextlib.contextmanager\tEasy decorator for context managers\n",
    "\n",
    "Python provides a shortcut using contextlib:"
   ]
  },
  {
   "cell_type": "code",
   "execution_count": 40,
   "id": "a39348ca",
   "metadata": {},
   "outputs": [
    {
     "name": "stdout",
     "output_type": "stream",
     "text": [
      "Help on function contextmanager in module contextlib:\n",
      "\n",
      "contextmanager(func)\n",
      "    @contextmanager decorator.\n",
      "    \n",
      "    Typical usage:\n",
      "    \n",
      "        @contextmanager\n",
      "        def some_generator(<arguments>):\n",
      "            <setup>\n",
      "            try:\n",
      "                yield <value>\n",
      "            finally:\n",
      "                <cleanup>\n",
      "    \n",
      "    This makes this:\n",
      "    \n",
      "        with some_generator(<arguments>) as <variable>:\n",
      "            <body>\n",
      "    \n",
      "    equivalent to this:\n",
      "    \n",
      "        <setup>\n",
      "        try:\n",
      "            <variable> = <value>\n",
      "            <body>\n",
      "        finally:\n",
      "            <cleanup>\n",
      "\n"
     ]
    }
   ],
   "source": [
    "import contextlib\n",
    "\n",
    "help(contextlib.contextmanager)"
   ]
  },
  {
   "cell_type": "code",
   "execution_count": 35,
   "id": "d32e707f",
   "metadata": {},
   "outputs": [
    {
     "name": "stdout",
     "output_type": "stream",
     "text": [
      "Start\n",
      "Using RESOURCE\n",
      "End\n"
     ]
    }
   ],
   "source": [
    "from contextlib import contextmanager\n",
    "\n",
    "@contextmanager\n",
    "def open_resource():\n",
    "    print(\"Start\")\n",
    "    yield \"RESOURCE\"\n",
    "    print(\"End\")\n",
    "\n",
    "with open_resource() as r:\n",
    "    print(\"Using\", r)"
   ]
  },
  {
   "cell_type": "markdown",
   "id": "72debbd6",
   "metadata": {},
   "source": [
    "Assignment2 Bank Application – Context Manager\n",
    "\n",
    "Simulate a Bank Transaction Session \n",
    "using a custom context manager class"
   ]
  },
  {
   "cell_type": "code",
   "execution_count": 41,
   "id": "52b4371e",
   "metadata": {},
   "outputs": [],
   "source": [
    "class BankAccount:\n",
    "    def __init__(self, name, balance=0):\n",
    "        self.name = name\n",
    "        self.balance = balance\n",
    "\n",
    "    def deposit(self, amount):\n",
    "        self.balance += amount\n",
    "        print(f\"₹{amount} deposited. Balance: ₹{self.balance}\")\n",
    "\n",
    "    def withdraw(self, amount):\n",
    "        if amount > self.balance:\n",
    "            print(\"[ERROR] Insufficient funds.\")\n",
    "        else:\n",
    "            self.balance -= amount\n",
    "            print(f\"₹{amount} withdrawn. Balance: ₹{self.balance}\")"
   ]
  },
  {
   "cell_type": "code",
   "execution_count": 42,
   "id": "09737c14",
   "metadata": {},
   "outputs": [],
   "source": [
    "# Context Manager for Banking Session\n",
    "\n",
    "class TransactionSession:\n",
    "    def __init__(self, account):\n",
    "        self.account = account\n",
    "\n",
    "    def __enter__(self):\n",
    "        print(f\"\\n[SESSION STARTED] Banking session for {self.account.name}\")\n",
    "        return self.account\n",
    "\n",
    "    def __exit__(self, exc_type, exc_val, exc_tb):\n",
    "        print(f\"[SESSION ENDED] Final Balance: ₹{self.account.balance}\\n\")\n",
    "        if exc_type:\n",
    "            print(f\"[EXCEPTION] {exc_type.__name__}: {exc_val}\")\n",
    "        return True  # Suppress exception if needed"
   ]
  },
  {
   "cell_type": "code",
   "execution_count": 43,
   "id": "38902200",
   "metadata": {},
   "outputs": [
    {
     "name": "stdout",
     "output_type": "stream",
     "text": [
      "\n",
      "[SESSION STARTED] Banking session for Dev\n",
      "₹500 deposited. Balance: ₹1500\n",
      "₹200 withdrawn. Balance: ₹1300\n",
      "[SESSION ENDED] Final Balance: ₹1300\n",
      "\n",
      "\n",
      "[SESSION STARTED] Banking session for Dev\n",
      "[ERROR] Insufficient funds.\n",
      "[SESSION ENDED] Final Balance: ₹1300\n",
      "\n"
     ]
    }
   ],
   "source": [
    "# Create Account\n",
    "acc = BankAccount(\"Dev\", 1000)\n",
    "\n",
    "# Use context manager for safe session\n",
    "with TransactionSession(acc) as account:\n",
    "    account.deposit(500)\n",
    "    account.withdraw(200)\n",
    "\n",
    "# Intentional error inside session\n",
    "with TransactionSession(acc) as account:\n",
    "    account.withdraw(2000)  # Should fail but session still ends cleanly\n"
   ]
  },
  {
   "cell_type": "markdown",
   "id": "ded50b12",
   "metadata": {},
   "source": [
    "What is a Generator?\n",
    "\n",
    "A generator is a special type of function that:\n",
    "•\tUses yield instead of return\n",
    "•\tRemembers its state between calls\n",
    "•\tProduces a sequence of values lazily (on demand)"
   ]
  },
  {
   "cell_type": "code",
   "execution_count": 52,
   "id": "e70198a4",
   "metadata": {},
   "outputs": [
    {
     "name": "stdout",
     "output_type": "stream",
     "text": [
      "5.3\n",
      "2.2\n",
      "7.5\n",
      "3.0999999999999996\n",
      "11.66\n"
     ]
    }
   ],
   "source": [
    "def generator(arg1,arg2):\n",
    "    '''Generator Sequence'''\n",
    "    yield arg1\n",
    "    yield arg2\n",
    "    yield arg1 + arg2\n",
    "    yield arg1 - arg2\n",
    "    yield arg1 * arg2\n",
    "    return\n",
    "\n",
    "g = generator(5.3,2.2)\n",
    "\n",
    "print(g.__next__())\n",
    "print(g.__next__())\n",
    "print(g.__next__())\n",
    "print(g.__next__())\n",
    "print(g.__next__())\n",
    "#print(g.__next__())\n",
    "\n",
    "\n"
   ]
  },
  {
   "cell_type": "code",
   "execution_count": 53,
   "id": "131ac6db",
   "metadata": {},
   "outputs": [
    {
     "name": "stdout",
     "output_type": "stream",
     "text": [
      "15\n",
      "3\n",
      "18\n",
      "12\n",
      "45\n"
     ]
    }
   ],
   "source": [
    "g1 = generator(15,3)\n",
    "\n",
    "for i in g1:\n",
    "    print(i)"
   ]
  },
  {
   "cell_type": "code",
   "execution_count": 54,
   "id": "d3775ce6",
   "metadata": {},
   "outputs": [
    {
     "name": "stdout",
     "output_type": "stream",
     "text": [
      "1\n",
      "2\n",
      "3\n"
     ]
    }
   ],
   "source": [
    "#Example: Generator that yields numbers\n",
    "\n",
    "def count_up_to(n):\n",
    "    count = 1\n",
    "    while count <= n:\n",
    "        yield count\n",
    "        count += 1\n",
    "\n",
    "gen = count_up_to(3)\n",
    "print(next(gen))  # 1\n",
    "print(next(gen))  # 2\n",
    "print(next(gen))  # 3\n",
    "\n",
    "# next(gen) → raises StopIteration"
   ]
  },
  {
   "cell_type": "markdown",
   "id": "0e46247c",
   "metadata": {},
   "source": [
    "Difference from return:\n",
    "•\treturn ends the function\n",
    "•\tyield pauses the function, \n",
    "    saves the state, and \n",
    "    resumes from there later"
   ]
  },
  {
   "cell_type": "code",
   "execution_count": null,
   "id": "c61cb5b6",
   "metadata": {},
   "outputs": [],
   "source": [
    "#Looping Through a Generator\n",
    "\n",
    "for num in count_up_to(3):\n",
    "    print(num)\n"
   ]
  },
  {
   "cell_type": "markdown",
   "id": "6c32b340",
   "metadata": {},
   "source": [
    "Use Case: Lazy File Reading\n",
    "Reads a large file line-by-line (efficient!)"
   ]
  },
  {
   "cell_type": "code",
   "execution_count": null,
   "id": "f933306e",
   "metadata": {},
   "outputs": [],
   "source": [
    "def read_file(file_path):\n",
    "    with open(file_path) as f:\n",
    "        for line in f:\n",
    "            yield line.strip()\n",
    "\n",
    "for line in read_file(\"data.txt\"):\n",
    "    print(line)"
   ]
  },
  {
   "cell_type": "markdown",
   "id": "843ecb2d",
   "metadata": {},
   "source": [
    "Generator Pipelines (Composable Data Flow)\n",
    "\n",
    "You can chain generators like a pipeline \n",
    "to process data step by step.\n"
   ]
  },
  {
   "cell_type": "code",
   "execution_count": null,
   "id": "af0fbb4c",
   "metadata": {},
   "outputs": [],
   "source": [
    "def get_words(text):\n",
    "    for word in text.split():\n",
    "        yield word\n",
    "\n",
    "def filter_short_words(words):\n",
    "    for word in words:\n",
    "        if len(word) > 3:\n",
    "            yield word\n",
    "\n",
    "def uppercase(words):\n",
    "    for word in words:\n",
    "        yield word.upper()\n",
    "\n",
    "text = \"python is powerful and elegant\"\n",
    "pipeline = uppercase(filter_short_words(get_words(text)))\n",
    "\n",
    "for word in pipeline:\n",
    "    print(word)"
   ]
  },
  {
   "cell_type": "code",
   "execution_count": null,
   "id": "6ae47532",
   "metadata": {},
   "outputs": [],
   "source": [
    "#Sending Data to a Generator\n",
    "# (yield as a Coroutine)\n",
    "\n",
    "def echo():\n",
    "    while True:\n",
    "        received = yield\n",
    "        print(\"Got:\", received)\n",
    "\n",
    "gen = echo()\n",
    "next(gen)         # Start the generator\n",
    "gen.send(\"Hello\") # Output: Got: Hello\n",
    "\n",
    "#Useful for building pipelines that react to data inputs\n",
    "# (used in async and event systems)."
   ]
  },
  {
   "cell_type": "code",
   "execution_count": null,
   "id": "d23ba886",
   "metadata": {},
   "outputs": [],
   "source": [
    "# Generator Expressions (Inline like list comprehension)\n",
    "squares = (x*x for x in range(5))\n",
    "print(next(squares))  # 0\n",
    "\n",
    "#Uses less memory than [x*x for x in range(1000000)]"
   ]
  },
  {
   "cell_type": "markdown",
   "id": "112f1e7b",
   "metadata": {},
   "source": [
    "Metaclasses: Framework-level magic \n",
    "\n",
    "What is a Metaclass?\n",
    "\n",
    "A metaclass is the class of a class.\n",
    "•\tJust like a class creates objects,\n",
    "•\tA metaclass creates classes.\n",
    "\n",
    "In other words:\n",
    "\n",
    "Objects are instances of classes.\n",
    "Classes are instances of metaclasses.\n",
    "\n",
    "By default, all classes in Python are created by the built-in metaclass type."
   ]
  },
  {
   "cell_type": "markdown",
   "id": "0f826493",
   "metadata": {},
   "source": [
    "Why Use Metaclasses?\n",
    "\n",
    "They allow you to control class creation, just like a class controls object creation.\n",
    "Common Use Cases:\n",
    "•\tEnforcing coding standards\n",
    "•\tAuto-registering classes (plugins, commands, serializers)\n",
    "•\tValidating class attributes\n",
    "•\tAdding methods dynamically\n",
    "•\tBuilding frameworks (Django models, SQLAlchemy tables)\n",
    " \n"
   ]
  },
  {
   "cell_type": "markdown",
   "id": "d048d963",
   "metadata": {},
   "source": [
    "How Class Creation Works Internally?\n",
    "\n",
    "When you write:\n",
    "\n",
    "class MyClass:\n",
    "    pass\n",
    "\n",
    "Python does something like:\n",
    "\n",
    "MyClass = type('MyClass', (), {})\n",
    "\n",
    "•\ttype is a metaclass that creates the class MyClass\n",
    "\n",
    "•\tYou can override this process with a custom metaclass"
   ]
  },
  {
   "cell_type": "code",
   "execution_count": 60,
   "id": "35786551",
   "metadata": {},
   "outputs": [
    {
     "name": "stdout",
     "output_type": "stream",
     "text": [
      "Creating class MyClass\n",
      "Hello!\n"
     ]
    }
   ],
   "source": [
    "#Step 1: Basic Metaclass\n",
    "\n",
    "class MyMeta(type):\n",
    "    def __new__(cls, name, bases, dct):\n",
    "        print(f\"Creating class {name}\")\n",
    "        return super().__new__(cls, name, bases, dct)\n",
    "\n",
    "class MyClass(metaclass=MyMeta):\n",
    "    def say_hello(self):\n",
    "        print(\"Hello!\")\n",
    "\n",
    "Obj1 = MyClass()\n",
    "\n",
    "Obj1.say_hello()\n"
   ]
  },
  {
   "cell_type": "markdown",
   "id": "4f443bca",
   "metadata": {},
   "source": [
    "Creating class MyClass\n",
    "\n",
    "This runs at class definition time, not instance creation time.\n",
    "\n",
    "Step 2: Enforcing a Rule – Must Have \n",
    "\n",
    "say_hello\n",
    " Method"
   ]
  },
  {
   "cell_type": "code",
   "execution_count": 64,
   "id": "3136354b",
   "metadata": {},
   "outputs": [],
   "source": [
    "class MustHaveHello(type):\n",
    "    def __new__(cls, name, bases, dct):\n",
    "        if 'say_hello' not in dct:\n",
    "            raise TypeError(f\"{name} must define a 'say_hello' method\")\n",
    "        return super().__new__(cls, name, bases, dct)\n",
    "\n",
    "class MyClass(metaclass=MustHaveHello):\n",
    "    def say_hello(self):\n",
    "        print(\"Hello!\")"
   ]
  },
  {
   "cell_type": "markdown",
   "id": "8fb2054f",
   "metadata": {},
   "source": [
    "Assignment Apply Metaclasses Concept for Bank Application\n",
    "\n",
    "For all BankModel classes (e.g., Customer, Account, Transaction) to:\n",
    "\n",
    "•\tAutomatically register themselves\n",
    "\n",
    "•\tHave a class-level table_name attribute derived from class name"
   ]
  },
  {
   "cell_type": "code",
   "execution_count": 67,
   "id": "cfc83085",
   "metadata": {},
   "outputs": [],
   "source": [
    "#Step 1: Define a Metaclass\n",
    "\n",
    "class BankMeta(type):\n",
    "    registry = {}\n",
    "\n",
    "    def __new__(cls, name, bases, attrs):\n",
    "        new_class = super().__new__(cls, name, bases, attrs)\n",
    "\n",
    "        # Auto-set table_name\n",
    "        new_class.table_name = name.lower()\n",
    "\n",
    "        # Auto-register the class (excluding base)\n",
    "        if name != 'BankModel':\n",
    "            BankMeta.registry[name] = new_class\n",
    "\n",
    "        return new_class"
   ]
  },
  {
   "cell_type": "code",
   "execution_count": 68,
   "id": "eebbc466",
   "metadata": {},
   "outputs": [],
   "source": [
    "#Step 2: Base Class Using Metaclass\n",
    "\n",
    "class BankModel(metaclass=BankMeta):\n",
    "    pass\n",
    "\n",
    "B1 = BankModel()"
   ]
  },
  {
   "cell_type": "code",
   "execution_count": 69,
   "id": "bd8302c7",
   "metadata": {},
   "outputs": [],
   "source": [
    "#Step 3: Define Models\n",
    "\n",
    "class Customer(BankModel):\n",
    "    pass\n",
    "\n",
    "class Account(BankModel):\n",
    "    pass\n",
    "\n",
    "class Transaction(BankModel):\n",
    "    pass"
   ]
  },
  {
   "cell_type": "code",
   "execution_count": 70,
   "id": "549e0484",
   "metadata": {},
   "outputs": [
    {
     "name": "stdout",
     "output_type": "stream",
     "text": [
      "customer\n",
      "account\n",
      "{'Customer': <class '__main__.Customer'>, 'Account': <class '__main__.Account'>, 'Transaction': <class '__main__.Transaction'>}\n"
     ]
    }
   ],
   "source": [
    "#Step 4: Usage\n",
    "print(Customer.table_name)       # 'customer'\n",
    "print(Account.table_name)        # 'account'\n",
    "print(BankMeta.registry)         # {'Customer': <class '__main__.Customer'>, ...}"
   ]
  },
  {
   "cell_type": "markdown",
   "id": "dc3cd938",
   "metadata": {},
   "source": [
    "What’s Happening Behind the Scenes?\n",
    "\n",
    "When Python sees class Customer(BankModel):, \n",
    "\n",
    "it uses BankMeta.__new__() to create the class itself.\n",
    "\n",
    "The metaclass:\n",
    "\n",
    "o\tAdds table_name = 'customer'\n",
    "o\tRegisters Customer in a central registry (like an ORM model registry)\n",
    "•\tNo need to write this logic again in every class. It’s framework-level magic."
   ]
  },
  {
   "cell_type": "markdown",
   "id": "8599a6f4",
   "metadata": {},
   "source": [
    "Use Case: BankMeta Enforces Method Naming Convention and Adds Logging Automatically\n",
    "\n",
    "Goal:\n",
    "    •   All classes using BankMeta must implement deposit() and withdraw() methods.\n",
    "    •   Automatically add a log_transaction() method to any class that uses BankMeta"
   ]
  },
  {
   "cell_type": "code",
   "execution_count": 72,
   "id": "bcdd179d",
   "metadata": {},
   "outputs": [],
   "source": [
    "# -------------------------------\n",
    "# BankMeta Metaclass Definition\n",
    "# -------------------------------\n",
    "\n",
    "class BankMeta(type):\n",
    "    def __new__(cls, name, bases, class_dict):\n",
    "        # Enforce that deposit and withdraw methods are present\n",
    "        required_methods = ['deposit', 'withdraw']\n",
    "        for method in required_methods:\n",
    "            if method not in class_dict:\n",
    "                raise TypeError(f\"Class '{name}' must implement '{method}()' method.\")\n",
    "\n",
    "        # Inject a logging method into the class\n",
    "        def log_transaction(self, message):\n",
    "            print(f\"[LOG] {self.account_holder}: {message}\")\n",
    "\n",
    "        class_dict['log_transaction'] = log_transaction\n",
    "\n",
    "        return super().__new__(cls, name, bases, class_dict)\n"
   ]
  },
  {
   "cell_type": "code",
   "execution_count": 73,
   "id": "3b15fb84",
   "metadata": {},
   "outputs": [
    {
     "name": "stdout",
     "output_type": "stream",
     "text": [
      "[LOG] Dev: Deposited ₹1500. New balance: ₹6500\n",
      "[LOG] Dev: Withdrew ₹2000. New balance: ₹4500\n",
      "[LOG] Dev: Attempted withdrawal of ₹6000 failed. Insufficient funds.\n"
     ]
    }
   ],
   "source": [
    "# -------------------------------\n",
    "# BankAccount using BankMeta\n",
    "# -------------------------------\n",
    "\n",
    "class BankAccount(metaclass=BankMeta):\n",
    "    def __init__(self, account_holder, balance=0):\n",
    "        self.account_holder = account_holder\n",
    "        self.balance = balance\n",
    "\n",
    "    def deposit(self, amount):\n",
    "        self.balance += amount\n",
    "        self.log_transaction(f\"Deposited ₹{amount}. New balance: ₹{self.balance}\")\n",
    "\n",
    "    def withdraw(self, amount):\n",
    "        if amount > self.balance:\n",
    "            self.log_transaction(f\"Attempted withdrawal of ₹{amount} failed. Insufficient funds.\")\n",
    "        else:\n",
    "            self.balance -= amount\n",
    "            self.log_transaction(f\"Withdrew ₹{amount}. New balance: ₹{self.balance}\")\n",
    "\n",
    "# -------------------------------\n",
    "# Testing the BankAccount Class\n",
    "# -------------------------------\n",
    "\n",
    "if __name__ == \"__main__\":\n",
    "    acc = BankAccount(\"Dev\", 5000)\n",
    "    acc.deposit(1500)\n",
    "    acc.withdraw(2000)\n",
    "    acc.withdraw(6000)"
   ]
  },
  {
   "cell_type": "code",
   "execution_count": null,
   "id": "615574d6",
   "metadata": {},
   "outputs": [],
   "source": [
    "✅ Benefits of BankMeta in This Example:\n",
    "    •   Enforces structure and required methods (deposit, withdraw) for any banking class.\n",
    "    •   Reduces repetitive code by injecting a log_transaction() utility.\n",
    "    •   Promotes standardization across all account classes."
   ]
  }
 ],
 "metadata": {
  "kernelspec": {
   "display_name": "base",
   "language": "python",
   "name": "python3"
  },
  "language_info": {
   "codemirror_mode": {
    "name": "ipython",
    "version": 3
   },
   "file_extension": ".py",
   "mimetype": "text/x-python",
   "name": "python",
   "nbconvert_exporter": "python",
   "pygments_lexer": "ipython3",
   "version": "3.11.7"
  }
 },
 "nbformat": 4,
 "nbformat_minor": 5
}
